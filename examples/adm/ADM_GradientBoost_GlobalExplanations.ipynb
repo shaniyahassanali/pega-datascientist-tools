{
 "cells": [
  {
   "cell_type": "markdown",
   "metadata": {},
   "source": [
    "## Generate Aggregations"
   ]
  },
  {
   "cell_type": "code",
   "execution_count": null,
   "metadata": {},
   "outputs": [],
   "source": [
    "from pdstools import GradientBoostGlobalExplanations\n",
    "from datetime import datetime"
   ]
  },
  {
   "cell_type": "code",
   "execution_count": 6,
   "metadata": {},
   "outputs": [
    {
     "name": "stdout",
     "output_type": "stream",
     "text": [
      "Selected files:= ['/Users/henre/Repositories/pega-datascientist-tools/data/agb/explanations/small-3000-ctx/20250219.parquet']\n"
     ]
    }
   ],
   "source": [
    "agg = GradientBoostGlobalExplanations(\n",
    "        nb_days=1\n",
    "        ,start_date = datetime(2025, 2, 19)\n",
    "        ,files_location='/Users/henre/Repositories/pega-datascientist-tools/data/agb/explanations/small-3000-ctx'\n",
    "        ,batch_limit=20\n",
    "        ,memory_limit=2\n",
    "        ,thread_count=4\n",
    "        )"
   ]
  },
  {
   "cell_type": "markdown",
   "metadata": {},
   "source": [
    "#TODO\n",
    "* Missing bin for numeric\n",
    "    * Find out how this data would look\n",
    "    * Add empties to the generated data\n",
    "* Missing bin for symbolic\n",
    "    * Find out how this data would look\n",
    "    * Add empties to the generated data\n",
    "* Symbolic plotting, missing, top-n, the rest\n"
   ]
  },
  {
   "cell_type": "code",
   "execution_count": 7,
   "metadata": {},
   "outputs": [
    {
     "name": "stdout",
     "output_type": "stream",
     "text": [
      "Processed batch 10, group: 180, len: 20\n",
      "Processed batch 20, group: 380, len: 20\n",
      "Processed batch 30, group: 580, len: 20\n",
      "Processed batch 40, group: 780, len: 20\n",
      "Processed batch 50, group: 980, len: 20\n",
      "Processed batch 60, group: 1180, len: 20\n",
      "Processed batch 70, group: 1380, len: 20\n",
      "Processed batch 80, group: 1580, len: 20\n",
      "Processed batch 90, group: 1780, len: 20\n",
      "Processed batch 100, group: 1980, len: 20\n",
      "Processed batch 110, group: 2180, len: 20\n",
      "Processed batch 120, group: 2380, len: 20\n",
      "Processed batch 130, group: 2580, len: 20\n",
      "Processed batch 140, group: 2780, len: 20\n",
      "Processed batch 150, group: 2980, len: 20\n",
      "Processed batch 10, group: 180, len: 20\n",
      "Processed batch 20, group: 380, len: 20\n",
      "Processed batch 30, group: 580, len: 20\n",
      "Processed batch 40, group: 780, len: 20\n",
      "Processed batch 50, group: 980, len: 20\n",
      "Processed batch 60, group: 1180, len: 20\n",
      "Processed batch 70, group: 1380, len: 20\n",
      "Processed batch 80, group: 1580, len: 20\n",
      "Processed batch 90, group: 1780, len: 20\n",
      "Processed batch 100, group: 1980, len: 20\n",
      "Processed batch 110, group: 2180, len: 20\n",
      "Processed batch 120, group: 2380, len: 20\n",
      "Processed batch 130, group: 2580, len: 20\n",
      "Processed batch 140, group: 2780, len: 20\n",
      "Processed batch 150, group: 2980, len: 20\n"
     ]
    }
   ],
   "source": [
    "agg.process()"
   ]
  },
  {
   "cell_type": "code",
   "execution_count": 16,
   "metadata": {},
   "outputs": [],
   "source": [
    "import polars as pl"
   ]
  },
  {
   "cell_type": "code",
   "execution_count": 9,
   "metadata": {},
   "outputs": [],
   "source": [
    "df = pl.read_parquet('out/NUMERIC_BATCH_*.parquet')"
   ]
  },
  {
   "cell_type": "code",
   "execution_count": 10,
   "metadata": {},
   "outputs": [
    {
     "data": {
      "text/html": [
       "<div><style>\n",
       ".dataframe > thead > tr,\n",
       ".dataframe > tbody > tr {\n",
       "  text-align: right;\n",
       "  white-space: pre-wrap;\n",
       "}\n",
       "</style>\n",
       "<small>shape: (5, 10)</small><table border=\"1\" class=\"dataframe\"><thead><tr><th>context_keys</th><th>predictor_name</th><th>predictor_type</th><th>bin_order</th><th>contribution</th><th>contribution_0</th><th>contribution_100</th><th>frequency</th><th>bin_contents</th><th>__index_level_0__</th></tr><tr><td>str</td><td>str</td><td>str</td><td>i64</td><td>f64</td><td>f64</td><td>f64</td><td>i64</td><td>str</td><td>i64</td></tr></thead><tbody><tr><td>&quot;pyChannel_0pyDirection_0pyGrou…</td><td>&quot;NUM_109&quot;</td><td>&quot;NUMERIC&quot;</td><td>9</td><td>0.6652</td><td>0.6652</td><td>0.6652</td><td>1</td><td>&quot;[865.965:932.120]&quot;</td><td>0</td></tr><tr><td>&quot;pyChannel_0pyDirection_0pyGrou…</td><td>&quot;NUM_109&quot;</td><td>&quot;NUMERIC&quot;</td><td>9</td><td>-0.6026</td><td>-0.6026</td><td>-0.6026</td><td>1</td><td>&quot;[893.685:934.735]&quot;</td><td>1</td></tr><tr><td>&quot;pyChannel_0pyDirection_0pyGrou…</td><td>&quot;NUM_109&quot;</td><td>&quot;NUMERIC&quot;</td><td>9</td><td>0.9002</td><td>0.9002</td><td>0.9002</td><td>1</td><td>&quot;[936.565:972.245]&quot;</td><td>2</td></tr><tr><td>&quot;pyChannel_0pyDirection_1pyGrou…</td><td>&quot;NUM_109&quot;</td><td>&quot;NUMERIC&quot;</td><td>9</td><td>-0.195</td><td>-0.2195</td><td>-0.1705</td><td>2</td><td>&quot;[775.440:898.565]&quot;</td><td>3</td></tr><tr><td>&quot;pyChannel_0pyDirection_1pyGrou…</td><td>&quot;NUM_109&quot;</td><td>&quot;NUMERIC&quot;</td><td>9</td><td>-0.8273</td><td>-0.8273</td><td>-0.8273</td><td>1</td><td>&quot;[967.105:977.300]&quot;</td><td>4</td></tr></tbody></table></div>"
      ],
      "text/plain": [
       "shape: (5, 10)\n",
       "┌───────────┬───────────┬───────────┬───────────┬───┬───────────┬───────────┬───────────┬──────────┐\n",
       "│ context_k ┆ predictor ┆ predictor ┆ bin_order ┆ … ┆ contribut ┆ frequency ┆ bin_conte ┆ __index_ │\n",
       "│ eys       ┆ _name     ┆ _type     ┆ ---       ┆   ┆ ion_100   ┆ ---       ┆ nts       ┆ level_0_ │\n",
       "│ ---       ┆ ---       ┆ ---       ┆ i64       ┆   ┆ ---       ┆ i64       ┆ ---       ┆ _        │\n",
       "│ str       ┆ str       ┆ str       ┆           ┆   ┆ f64       ┆           ┆ str       ┆ ---      │\n",
       "│           ┆           ┆           ┆           ┆   ┆           ┆           ┆           ┆ i64      │\n",
       "╞═══════════╪═══════════╪═══════════╪═══════════╪═══╪═══════════╪═══════════╪═══════════╪══════════╡\n",
       "│ pyChannel ┆ NUM_109   ┆ NUMERIC   ┆ 9         ┆ … ┆ 0.6652    ┆ 1         ┆ [865.965: ┆ 0        │\n",
       "│ _0pyDirec ┆           ┆           ┆           ┆   ┆           ┆           ┆ 932.120]  ┆          │\n",
       "│ tion_0pyG ┆           ┆           ┆           ┆   ┆           ┆           ┆           ┆          │\n",
       "│ rou…      ┆           ┆           ┆           ┆   ┆           ┆           ┆           ┆          │\n",
       "│ pyChannel ┆ NUM_109   ┆ NUMERIC   ┆ 9         ┆ … ┆ -0.6026   ┆ 1         ┆ [893.685: ┆ 1        │\n",
       "│ _0pyDirec ┆           ┆           ┆           ┆   ┆           ┆           ┆ 934.735]  ┆          │\n",
       "│ tion_0pyG ┆           ┆           ┆           ┆   ┆           ┆           ┆           ┆          │\n",
       "│ rou…      ┆           ┆           ┆           ┆   ┆           ┆           ┆           ┆          │\n",
       "│ pyChannel ┆ NUM_109   ┆ NUMERIC   ┆ 9         ┆ … ┆ 0.9002    ┆ 1         ┆ [936.565: ┆ 2        │\n",
       "│ _0pyDirec ┆           ┆           ┆           ┆   ┆           ┆           ┆ 972.245]  ┆          │\n",
       "│ tion_0pyG ┆           ┆           ┆           ┆   ┆           ┆           ┆           ┆          │\n",
       "│ rou…      ┆           ┆           ┆           ┆   ┆           ┆           ┆           ┆          │\n",
       "│ pyChannel ┆ NUM_109   ┆ NUMERIC   ┆ 9         ┆ … ┆ -0.1705   ┆ 2         ┆ [775.440: ┆ 3        │\n",
       "│ _0pyDirec ┆           ┆           ┆           ┆   ┆           ┆           ┆ 898.565]  ┆          │\n",
       "│ tion_1pyG ┆           ┆           ┆           ┆   ┆           ┆           ┆           ┆          │\n",
       "│ rou…      ┆           ┆           ┆           ┆   ┆           ┆           ┆           ┆          │\n",
       "│ pyChannel ┆ NUM_109   ┆ NUMERIC   ┆ 9         ┆ … ┆ -0.8273   ┆ 1         ┆ [967.105: ┆ 4        │\n",
       "│ _0pyDirec ┆           ┆           ┆           ┆   ┆           ┆           ┆ 977.300]  ┆          │\n",
       "│ tion_1pyG ┆           ┆           ┆           ┆   ┆           ┆           ┆           ┆          │\n",
       "│ rou…      ┆           ┆           ┆           ┆   ┆           ┆           ┆           ┆          │\n",
       "└───────────┴───────────┴───────────┴───────────┴───┴───────────┴───────────┴───────────┴──────────┘"
      ]
     },
     "execution_count": 10,
     "metadata": {},
     "output_type": "execute_result"
    }
   ],
   "source": [
    "df.head()"
   ]
  },
  {
   "cell_type": "code",
   "execution_count": 11,
   "metadata": {},
   "outputs": [
    {
     "data": {
      "text/plain": [
       "array(['NUM_189', 'pyChannel_1pyDirection_0pyGroup_1pyIssue_6pyName_34'],\n",
       "      dtype=object)"
      ]
     },
     "execution_count": 11,
     "metadata": {},
     "output_type": "execute_result"
    }
   ],
   "source": [
    "predictor_name = df.select(['predictor_name', 'context_keys']).unique().to_numpy().squeeze()[0]\n",
    "predictor_name"
   ]
  },
  {
   "cell_type": "code",
   "execution_count": 12,
   "metadata": {},
   "outputs": [
    {
     "data": {
      "text/html": [
       "<div><style>\n",
       ".dataframe > thead > tr,\n",
       ".dataframe > tbody > tr {\n",
       "  text-align: right;\n",
       "  white-space: pre-wrap;\n",
       "}\n",
       "</style>\n",
       "<small>shape: (10, 10)</small><table border=\"1\" class=\"dataframe\"><thead><tr><th>context_keys</th><th>predictor_name</th><th>predictor_type</th><th>bin_order</th><th>contribution</th><th>contribution_0</th><th>contribution_100</th><th>frequency</th><th>bin_contents</th><th>__index_level_0__</th></tr><tr><td>str</td><td>str</td><td>str</td><td>i64</td><td>f64</td><td>f64</td><td>f64</td><td>i64</td><td>str</td><td>i64</td></tr></thead><tbody><tr><td>&quot;pyChannel_1pyDirection_0pyGrou…</td><td>&quot;NUM_189&quot;</td><td>&quot;NUMERIC&quot;</td><td>1</td><td>-0.071467</td><td>-0.6948</td><td>0.4278</td><td>3</td><td>&quot;&lt;=159.395&quot;</td><td>43601</td></tr><tr><td>&quot;pyChannel_1pyDirection_0pyGrou…</td><td>&quot;NUM_189&quot;</td><td>&quot;NUMERIC&quot;</td><td>2</td><td>-0.0059</td><td>-0.5376</td><td>0.9787</td><td>3</td><td>&quot;[159.395:249.605]&quot;</td><td>43602</td></tr><tr><td>&quot;pyChannel_1pyDirection_0pyGrou…</td><td>&quot;NUM_189&quot;</td><td>&quot;NUMERIC&quot;</td><td>3</td><td>0.242033</td><td>-0.0269</td><td>0.5911</td><td>3</td><td>&quot;[249.605:415.455]&quot;</td><td>58388</td></tr><tr><td>&quot;pyChannel_1pyDirection_0pyGrou…</td><td>&quot;NUM_189&quot;</td><td>&quot;NUMERIC&quot;</td><td>4</td><td>0.057467</td><td>-0.2083</td><td>0.4505</td><td>3</td><td>&quot;[415.455:616.925]&quot;</td><td>28868</td></tr><tr><td>&quot;pyChannel_1pyDirection_0pyGrou…</td><td>&quot;NUM_189&quot;</td><td>&quot;NUMERIC&quot;</td><td>5</td><td>-0.2026</td><td>-0.2959</td><td>-0.1093</td><td>2</td><td>&quot;[616.925:697.720]&quot;</td><td>58389</td></tr><tr><td>&quot;pyChannel_1pyDirection_0pyGrou…</td><td>&quot;NUM_189&quot;</td><td>&quot;NUMERIC&quot;</td><td>6</td><td>-0.27045</td><td>-0.856</td><td>0.3151</td><td>2</td><td>&quot;[697.720:767.445]&quot;</td><td>43603</td></tr><tr><td>&quot;pyChannel_1pyDirection_0pyGrou…</td><td>&quot;NUM_189&quot;</td><td>&quot;NUMERIC&quot;</td><td>7</td><td>-0.0146</td><td>-0.531</td><td>0.5018</td><td>2</td><td>&quot;[767.445:836.065]&quot;</td><td>14215</td></tr><tr><td>&quot;pyChannel_1pyDirection_0pyGrou…</td><td>&quot;NUM_189&quot;</td><td>&quot;NUMERIC&quot;</td><td>8</td><td>-0.5638</td><td>-0.7467</td><td>-0.3809</td><td>2</td><td>&quot;[836.065:849.065]&quot;</td><td>14216</td></tr><tr><td>&quot;pyChannel_1pyDirection_0pyGrou…</td><td>&quot;NUM_189&quot;</td><td>&quot;NUMERIC&quot;</td><td>9</td><td>0.0398</td><td>-0.0359</td><td>0.1155</td><td>2</td><td>&quot;[849.065:894.575]&quot;</td><td>58390</td></tr><tr><td>&quot;pyChannel_1pyDirection_0pyGrou…</td><td>&quot;NUM_189&quot;</td><td>&quot;NUMERIC&quot;</td><td>10</td><td>-0.61155</td><td>-0.9788</td><td>-0.2443</td><td>2</td><td>&quot;&gt;894.575&quot;</td><td>14217</td></tr></tbody></table></div>"
      ],
      "text/plain": [
       "shape: (10, 10)\n",
       "┌───────────┬───────────┬───────────┬───────────┬───┬───────────┬───────────┬───────────┬──────────┐\n",
       "│ context_k ┆ predictor ┆ predictor ┆ bin_order ┆ … ┆ contribut ┆ frequency ┆ bin_conte ┆ __index_ │\n",
       "│ eys       ┆ _name     ┆ _type     ┆ ---       ┆   ┆ ion_100   ┆ ---       ┆ nts       ┆ level_0_ │\n",
       "│ ---       ┆ ---       ┆ ---       ┆ i64       ┆   ┆ ---       ┆ i64       ┆ ---       ┆ _        │\n",
       "│ str       ┆ str       ┆ str       ┆           ┆   ┆ f64       ┆           ┆ str       ┆ ---      │\n",
       "│           ┆           ┆           ┆           ┆   ┆           ┆           ┆           ┆ i64      │\n",
       "╞═══════════╪═══════════╪═══════════╪═══════════╪═══╪═══════════╪═══════════╪═══════════╪══════════╡\n",
       "│ pyChannel ┆ NUM_189   ┆ NUMERIC   ┆ 1         ┆ … ┆ 0.4278    ┆ 3         ┆ <=159.395 ┆ 43601    │\n",
       "│ _1pyDirec ┆           ┆           ┆           ┆   ┆           ┆           ┆           ┆          │\n",
       "│ tion_0pyG ┆           ┆           ┆           ┆   ┆           ┆           ┆           ┆          │\n",
       "│ rou…      ┆           ┆           ┆           ┆   ┆           ┆           ┆           ┆          │\n",
       "│ pyChannel ┆ NUM_189   ┆ NUMERIC   ┆ 2         ┆ … ┆ 0.9787    ┆ 3         ┆ [159.395: ┆ 43602    │\n",
       "│ _1pyDirec ┆           ┆           ┆           ┆   ┆           ┆           ┆ 249.605]  ┆          │\n",
       "│ tion_0pyG ┆           ┆           ┆           ┆   ┆           ┆           ┆           ┆          │\n",
       "│ rou…      ┆           ┆           ┆           ┆   ┆           ┆           ┆           ┆          │\n",
       "│ pyChannel ┆ NUM_189   ┆ NUMERIC   ┆ 3         ┆ … ┆ 0.5911    ┆ 3         ┆ [249.605: ┆ 58388    │\n",
       "│ _1pyDirec ┆           ┆           ┆           ┆   ┆           ┆           ┆ 415.455]  ┆          │\n",
       "│ tion_0pyG ┆           ┆           ┆           ┆   ┆           ┆           ┆           ┆          │\n",
       "│ rou…      ┆           ┆           ┆           ┆   ┆           ┆           ┆           ┆          │\n",
       "│ pyChannel ┆ NUM_189   ┆ NUMERIC   ┆ 4         ┆ … ┆ 0.4505    ┆ 3         ┆ [415.455: ┆ 28868    │\n",
       "│ _1pyDirec ┆           ┆           ┆           ┆   ┆           ┆           ┆ 616.925]  ┆          │\n",
       "│ tion_0pyG ┆           ┆           ┆           ┆   ┆           ┆           ┆           ┆          │\n",
       "│ rou…      ┆           ┆           ┆           ┆   ┆           ┆           ┆           ┆          │\n",
       "│ pyChannel ┆ NUM_189   ┆ NUMERIC   ┆ 5         ┆ … ┆ -0.1093   ┆ 2         ┆ [616.925: ┆ 58389    │\n",
       "│ _1pyDirec ┆           ┆           ┆           ┆   ┆           ┆           ┆ 697.720]  ┆          │\n",
       "│ tion_0pyG ┆           ┆           ┆           ┆   ┆           ┆           ┆           ┆          │\n",
       "│ rou…      ┆           ┆           ┆           ┆   ┆           ┆           ┆           ┆          │\n",
       "│ pyChannel ┆ NUM_189   ┆ NUMERIC   ┆ 6         ┆ … ┆ 0.3151    ┆ 2         ┆ [697.720: ┆ 43603    │\n",
       "│ _1pyDirec ┆           ┆           ┆           ┆   ┆           ┆           ┆ 767.445]  ┆          │\n",
       "│ tion_0pyG ┆           ┆           ┆           ┆   ┆           ┆           ┆           ┆          │\n",
       "│ rou…      ┆           ┆           ┆           ┆   ┆           ┆           ┆           ┆          │\n",
       "│ pyChannel ┆ NUM_189   ┆ NUMERIC   ┆ 7         ┆ … ┆ 0.5018    ┆ 2         ┆ [767.445: ┆ 14215    │\n",
       "│ _1pyDirec ┆           ┆           ┆           ┆   ┆           ┆           ┆ 836.065]  ┆          │\n",
       "│ tion_0pyG ┆           ┆           ┆           ┆   ┆           ┆           ┆           ┆          │\n",
       "│ rou…      ┆           ┆           ┆           ┆   ┆           ┆           ┆           ┆          │\n",
       "│ pyChannel ┆ NUM_189   ┆ NUMERIC   ┆ 8         ┆ … ┆ -0.3809   ┆ 2         ┆ [836.065: ┆ 14216    │\n",
       "│ _1pyDirec ┆           ┆           ┆           ┆   ┆           ┆           ┆ 849.065]  ┆          │\n",
       "│ tion_0pyG ┆           ┆           ┆           ┆   ┆           ┆           ┆           ┆          │\n",
       "│ rou…      ┆           ┆           ┆           ┆   ┆           ┆           ┆           ┆          │\n",
       "│ pyChannel ┆ NUM_189   ┆ NUMERIC   ┆ 9         ┆ … ┆ 0.1155    ┆ 2         ┆ [849.065: ┆ 58390    │\n",
       "│ _1pyDirec ┆           ┆           ┆           ┆   ┆           ┆           ┆ 894.575]  ┆          │\n",
       "│ tion_0pyG ┆           ┆           ┆           ┆   ┆           ┆           ┆           ┆          │\n",
       "│ rou…      ┆           ┆           ┆           ┆   ┆           ┆           ┆           ┆          │\n",
       "│ pyChannel ┆ NUM_189   ┆ NUMERIC   ┆ 10        ┆ … ┆ -0.2443   ┆ 2         ┆ >894.575  ┆ 14217    │\n",
       "│ _1pyDirec ┆           ┆           ┆           ┆   ┆           ┆           ┆           ┆          │\n",
       "│ tion_0pyG ┆           ┆           ┆           ┆   ┆           ┆           ┆           ┆          │\n",
       "│ rou…      ┆           ┆           ┆           ┆   ┆           ┆           ┆           ┆          │\n",
       "└───────────┴───────────┴───────────┴───────────┴───┴───────────┴───────────┴───────────┴──────────┘"
      ]
     },
     "execution_count": 12,
     "metadata": {},
     "output_type": "execute_result"
    }
   ],
   "source": [
    "df.filter(pl.col('predictor_name') == predictor_name[0], pl.col('context_keys') == predictor_name[1]).sort(by='bin_order')"
   ]
  },
  {
   "cell_type": "code",
   "execution_count": 9,
   "metadata": {},
   "outputs": [],
   "source": [
    "# import glob\n",
    "# ctx = 'pyChannel, pyDirection, pyGroup, pyIssue, pyName'\n",
    "\n",
    "# for f in glob.glob(\"../data/small-3000/2025*.parquet\"):\n",
    "#     df = pl.read_parquet(f).with_columns([\n",
    "#         pl.concat_str([\n",
    "#             pl.col('pyChannel')\n",
    "#             , pl.col('pyDirection')\n",
    "#             , pl.col('pyGroup')\n",
    "#             , pl.col('pyIssue')\n",
    "#             , pl.col('pyName')])\n",
    "#         .alias('context_keys')\n",
    "#     ])\n",
    "#     file_to = f'../data/small-3000-ctx/{f.split('/')[-1]}'\n",
    "#     df.write_parquet(file_to)"
   ]
  },
  {
   "cell_type": "code",
   "execution_count": 1,
   "metadata": {},
   "outputs": [],
   "source": [
    "from pdstools import GradientBoostGlobalExplanations\n",
    "from datetime import datetime\n",
    "from dash import Dash, jupyter_dash, html, dcc\n",
    "import polars as pl"
   ]
  },
  {
   "cell_type": "code",
   "execution_count": 2,
   "metadata": {},
   "outputs": [],
   "source": [
    "predictor_names =  [\n",
    "    'NUM_271',\n",
    "    'NUM_201',\n",
    "    'NUM_42',\n",
    "    'NUM_5'\n",
    "]\n",
    "\n",
    "context_keys = {\n",
    "    'pyChannel' : ['pyChannel_0', 'pyChannel_1'],\n",
    "    'pyDirection' : ['pyDirection_1' , 'pyDirection_2'],\n",
    "    'pyName': ['pyName_0', 'pyName_10', 'pyName_20', 'pyName_30']\n",
    "}"
   ]
  },
  {
   "cell_type": "code",
   "execution_count": 3,
   "metadata": {},
   "outputs": [
    {
     "name": "stdout",
     "output_type": "stream",
     "text": [
      "Selected files:= ['/Users/henre/Repositories/pega-datascientist-tools/data/agb/explanations/small-3000-ctx/20250219.parquet']\n"
     ]
    }
   ],
   "source": [
    "agg = GradientBoostGlobalExplanations(\n",
    "        nb_days=1\n",
    "        ,start_date = datetime(2025, 2, 19)\n",
    "        ,files_location='/Users/henre/Repositories/pega-datascientist-tools/data/agb/explanations/small-3000-ctx'\n",
    "        ,batch_limit=20\n",
    "        ,memory_limit=2\n",
    "        ,thread_count=4\n",
    "        )"
   ]
  },
  {
   "cell_type": "code",
   "execution_count": 4,
   "metadata": {},
   "outputs": [
    {
     "name": "stdout",
     "output_type": "stream",
     "text": [
      " l.pyChannel IN ('pyChannel_0', 'pyChannel_1') AND l.pyDirection IN ('pyDirection_1', 'pyDirection_2') AND l.pyName IN ('pyName_0', 'pyName_10', 'pyName_20', 'pyName_30') AND l.predictor_name IN ('NUM_271', 'NUM_201', 'NUM_42', 'NUM_5')\n"
     ]
    }
   ],
   "source": [
    "df_subset = agg.process_subset(context_keys, predictor_names)"
   ]
  },
  {
   "cell_type": "code",
   "execution_count": null,
   "metadata": {},
   "outputs": [
    {
     "data": {
      "text/plain": [
       "array(['NUM_201', 'NUM_5', 'NUM_42', 'NUM_271'], dtype=object)"
      ]
     },
     "execution_count": 20,
     "metadata": {},
     "output_type": "execute_result"
    }
   ],
   "source": []
  },
  {
   "cell_type": "code",
   "execution_count": null,
   "metadata": {},
   "outputs": [],
   "source": [
    "app = Dash(__name__)\n",
    "app.layout = [\n",
    "    html.H1(children='Title of Dash App', style={'textAlign':'center'}),\n",
    "    dcc.Dropdown(df_subset.select(pl.col('predictor_name')).unique().to_numpy().squeeze(), id='dropdown-selection'),\n",
    "    dcc.Graph(id='graph-content')\n",
    "]\n"
   ]
  },
  {
   "cell_type": "code",
   "execution_count": 12,
   "metadata": {},
   "outputs": [
    {
     "name": "stdout",
     "output_type": "stream",
     "text": [
      "Dash app running on http://127.0.0.1:8050/\n"
     ]
    },
    {
     "name": "stderr",
     "output_type": "stream",
     "text": [
      "[2025-02-28 14:37:36,064] ERROR in app: Exception on /_dash-layout [GET]\n",
      "Traceback (most recent call last):\n",
      "  File \"/Users/henre/Repositories/pega-datascientist-tools/.venv/lib/python3.13/site-packages/flask/app.py\", line 1473, in wsgi_app\n",
      "    response = self.full_dispatch_request()\n",
      "  File \"/Users/henre/Repositories/pega-datascientist-tools/.venv/lib/python3.13/site-packages/flask/app.py\", line 882, in full_dispatch_request\n",
      "    rv = self.handle_user_exception(e)\n",
      "  File \"/Users/henre/Repositories/pega-datascientist-tools/.venv/lib/python3.13/site-packages/flask/app.py\", line 880, in full_dispatch_request\n",
      "    rv = self.dispatch_request()\n",
      "  File \"/Users/henre/Repositories/pega-datascientist-tools/.venv/lib/python3.13/site-packages/flask/app.py\", line 865, in dispatch_request\n",
      "    return self.ensure_sync(self.view_functions[rule.endpoint])(**view_args)  # type: ignore[no-any-return]\n",
      "           ~~~~~~~~~~~~~~~~~~~~~~~~~~~~~~~~~~~~~~~~~~~~~~~~~~~~^^^^^^^^^^^^^\n",
      "  File \"/Users/henre/Repositories/pega-datascientist-tools/.venv/lib/python3.13/site-packages/dash/dash.py\", line 753, in serve_layout\n",
      "    to_json(layout),\n",
      "    ~~~~~~~^^^^^^^^\n",
      "  File \"/Users/henre/Repositories/pega-datascientist-tools/.venv/lib/python3.13/site-packages/dash/_utils.py\", line 26, in to_json\n",
      "    return to_json_plotly(value)\n",
      "  File \"/Users/henre/Repositories/pega-datascientist-tools/.venv/lib/python3.13/site-packages/plotly/io/_json.py\", line 142, in to_json_plotly\n",
      "    json.dumps(plotly_object, cls=PlotlyJSONEncoder, **opts), _swap_json\n",
      "    ~~~~~~~~~~^^^^^^^^^^^^^^^^^^^^^^^^^^^^^^^^^^^^^^^^^^^^^^\n",
      "  File \"/Users/henre/.local/share/uv/python/cpython-3.13.1-macos-aarch64-none/lib/python3.13/json/__init__.py\", line 238, in dumps\n",
      "    **kw).encode(obj)\n",
      "          ~~~~~~^^^^^\n",
      "  File \"/Users/henre/Repositories/pega-datascientist-tools/.venv/lib/python3.13/site-packages/_plotly_utils/utils.py\", line 56, in encode\n",
      "    encoded_o = super(PlotlyJSONEncoder, self).encode(o)\n",
      "  File \"/Users/henre/.local/share/uv/python/cpython-3.13.1-macos-aarch64-none/lib/python3.13/json/encoder.py\", line 200, in encode\n",
      "    chunks = self.iterencode(o, _one_shot=True)\n",
      "  File \"/Users/henre/.local/share/uv/python/cpython-3.13.1-macos-aarch64-none/lib/python3.13/json/encoder.py\", line 261, in iterencode\n",
      "    return _iterencode(o, 0)\n",
      "  File \"/Users/henre/Repositories/pega-datascientist-tools/.venv/lib/python3.13/site-packages/_plotly_utils/utils.py\", line 133, in default\n",
      "    return _json.JSONEncoder.default(self, obj)\n",
      "           ~~~~~~~~~~~~~~~~~~~~~~~~~^^^^^^^^^^^\n",
      "  File \"/Users/henre/.local/share/uv/python/cpython-3.13.1-macos-aarch64-none/lib/python3.13/json/encoder.py\", line 180, in default\n",
      "    raise TypeError(f'Object of type {o.__class__.__name__} '\n",
      "                    f'is not JSON serializable')\n",
      "TypeError: Object of type Series is not JSON serializable\n"
     ]
    }
   ],
   "source": [
    "app.run_server(jupyter_mode='external')\n"
   ]
  },
  {
   "cell_type": "code",
   "execution_count": 5,
   "metadata": {},
   "outputs": [
    {
     "data": {
      "text/html": [
       "<div><style>\n",
       ".dataframe > thead > tr,\n",
       ".dataframe > tbody > tr {\n",
       "  text-align: right;\n",
       "  white-space: pre-wrap;\n",
       "}\n",
       "</style>\n",
       "<small>shape: (40, 9)</small><table border=\"1\" class=\"dataframe\"><thead><tr><th>context_keys</th><th>predictor_name</th><th>predictor_type</th><th>bin_contents</th><th>bin_order</th><th>contribution</th><th>contribution_0</th><th>contribution_100</th><th>frequency</th></tr><tr><td>str</td><td>str</td><td>str</td><td>str</td><td>i64</td><td>f64</td><td>f64</td><td>f64</td><td>i64</td></tr></thead><tbody><tr><td>&quot;model&quot;</td><td>&quot;NUM_271&quot;</td><td>&quot;NUMERIC&quot;</td><td>&quot;[203.990:303.040]&quot;</td><td>3</td><td>0.027795</td><td>-0.9968</td><td>0.9857</td><td>211</td></tr><tr><td>&quot;model&quot;</td><td>&quot;NUM_42&quot;</td><td>&quot;NUMERIC&quot;</td><td>&quot;&gt;903.105&quot;</td><td>10</td><td>-0.019154</td><td>-0.9917</td><td>0.99</td><td>210</td></tr><tr><td>&quot;model&quot;</td><td>&quot;NUM_5&quot;</td><td>&quot;NUMERIC&quot;</td><td>&quot;[381.575:484.695]&quot;</td><td>5</td><td>-0.01853</td><td>-0.9816</td><td>0.9967</td><td>211</td></tr><tr><td>&quot;model&quot;</td><td>&quot;NUM_5&quot;</td><td>&quot;NUMERIC&quot;</td><td>&quot;[783.865:899.110]&quot;</td><td>9</td><td>0.019747</td><td>-0.9997</td><td>0.9912</td><td>210</td></tr><tr><td>&quot;model&quot;</td><td>&quot;NUM_201&quot;</td><td>&quot;NUMERIC&quot;</td><td>&quot;[698.980:801.845]&quot;</td><td>8</td><td>0.032077</td><td>-0.9951</td><td>0.9984</td><td>210</td></tr><tr><td>&hellip;</td><td>&hellip;</td><td>&hellip;</td><td>&hellip;</td><td>&hellip;</td><td>&hellip;</td><td>&hellip;</td><td>&hellip;</td><td>&hellip;</td></tr><tr><td>&quot;model&quot;</td><td>&quot;NUM_201&quot;</td><td>&quot;NUMERIC&quot;</td><td>&quot;[801.845:907.585]&quot;</td><td>9</td><td>0.023865</td><td>-0.9796</td><td>0.9934</td><td>210</td></tr><tr><td>&quot;model&quot;</td><td>&quot;NUM_42&quot;</td><td>&quot;NUMERIC&quot;</td><td>&quot;[185.425:289.485]&quot;</td><td>3</td><td>0.011752</td><td>-0.9511</td><td>0.9986</td><td>211</td></tr><tr><td>&quot;model&quot;</td><td>&quot;NUM_42&quot;</td><td>&quot;NUMERIC&quot;</td><td>&quot;[289.485:396.130]&quot;</td><td>4</td><td>0.14063</td><td>-0.9948</td><td>0.9942</td><td>211</td></tr><tr><td>&quot;model&quot;</td><td>&quot;NUM_5&quot;</td><td>&quot;NUMERIC&quot;</td><td>&quot;&lt;=102.840&quot;</td><td>1</td><td>-0.003461</td><td>-0.9966</td><td>0.9902</td><td>211</td></tr><tr><td>&quot;model&quot;</td><td>&quot;NUM_201&quot;</td><td>&quot;NUMERIC&quot;</td><td>&quot;[412.360:503.665]&quot;</td><td>5</td><td>0.077324</td><td>-0.9866</td><td>1.0</td><td>211</td></tr></tbody></table></div>"
      ],
      "text/plain": [
       "shape: (40, 9)\n",
       "┌───────────┬───────────┬───────────┬───────────┬───┬───────────┬───────────┬───────────┬──────────┐\n",
       "│ context_k ┆ predictor ┆ predictor ┆ bin_conte ┆ … ┆ contribut ┆ contribut ┆ contribut ┆ frequenc │\n",
       "│ eys       ┆ _name     ┆ _type     ┆ nts       ┆   ┆ ion       ┆ ion_0     ┆ ion_100   ┆ y        │\n",
       "│ ---       ┆ ---       ┆ ---       ┆ ---       ┆   ┆ ---       ┆ ---       ┆ ---       ┆ ---      │\n",
       "│ str       ┆ str       ┆ str       ┆ str       ┆   ┆ f64       ┆ f64       ┆ f64       ┆ i64      │\n",
       "╞═══════════╪═══════════╪═══════════╪═══════════╪═══╪═══════════╪═══════════╪═══════════╪══════════╡\n",
       "│ model     ┆ NUM_271   ┆ NUMERIC   ┆ [203.990: ┆ … ┆ 0.027795  ┆ -0.9968   ┆ 0.9857    ┆ 211      │\n",
       "│           ┆           ┆           ┆ 303.040]  ┆   ┆           ┆           ┆           ┆          │\n",
       "│ model     ┆ NUM_42    ┆ NUMERIC   ┆ >903.105  ┆ … ┆ -0.019154 ┆ -0.9917   ┆ 0.99      ┆ 210      │\n",
       "│ model     ┆ NUM_5     ┆ NUMERIC   ┆ [381.575: ┆ … ┆ -0.01853  ┆ -0.9816   ┆ 0.9967    ┆ 211      │\n",
       "│           ┆           ┆           ┆ 484.695]  ┆   ┆           ┆           ┆           ┆          │\n",
       "│ model     ┆ NUM_5     ┆ NUMERIC   ┆ [783.865: ┆ … ┆ 0.019747  ┆ -0.9997   ┆ 0.9912    ┆ 210      │\n",
       "│           ┆           ┆           ┆ 899.110]  ┆   ┆           ┆           ┆           ┆          │\n",
       "│ model     ┆ NUM_201   ┆ NUMERIC   ┆ [698.980: ┆ … ┆ 0.032077  ┆ -0.9951   ┆ 0.9984    ┆ 210      │\n",
       "│           ┆           ┆           ┆ 801.845]  ┆   ┆           ┆           ┆           ┆          │\n",
       "│ …         ┆ …         ┆ …         ┆ …         ┆ … ┆ …         ┆ …         ┆ …         ┆ …        │\n",
       "│ model     ┆ NUM_201   ┆ NUMERIC   ┆ [801.845: ┆ … ┆ 0.023865  ┆ -0.9796   ┆ 0.9934    ┆ 210      │\n",
       "│           ┆           ┆           ┆ 907.585]  ┆   ┆           ┆           ┆           ┆          │\n",
       "│ model     ┆ NUM_42    ┆ NUMERIC   ┆ [185.425: ┆ … ┆ 0.011752  ┆ -0.9511   ┆ 0.9986    ┆ 211      │\n",
       "│           ┆           ┆           ┆ 289.485]  ┆   ┆           ┆           ┆           ┆          │\n",
       "│ model     ┆ NUM_42    ┆ NUMERIC   ┆ [289.485: ┆ … ┆ 0.14063   ┆ -0.9948   ┆ 0.9942    ┆ 211      │\n",
       "│           ┆           ┆           ┆ 396.130]  ┆   ┆           ┆           ┆           ┆          │\n",
       "│ model     ┆ NUM_5     ┆ NUMERIC   ┆ <=102.840 ┆ … ┆ -0.003461 ┆ -0.9966   ┆ 0.9902    ┆ 211      │\n",
       "│ model     ┆ NUM_201   ┆ NUMERIC   ┆ [412.360: ┆ … ┆ 0.077324  ┆ -0.9866   ┆ 1.0       ┆ 211      │\n",
       "│           ┆           ┆           ┆ 503.665]  ┆   ┆           ┆           ┆           ┆          │\n",
       "└───────────┴───────────┴───────────┴───────────┴───┴───────────┴───────────┴───────────┴──────────┘"
      ]
     },
     "execution_count": 5,
     "metadata": {},
     "output_type": "execute_result"
    }
   ],
   "source": [
    "df_subset"
   ]
  },
  {
   "cell_type": "code",
   "execution_count": 6,
   "metadata": {},
   "outputs": [],
   "source": [
    "import plotly.express as px"
   ]
  },
  {
   "cell_type": "code",
   "execution_count": 31,
   "metadata": {},
   "outputs": [
    {
     "data": {
      "application/vnd.plotly.v1+json": {
       "config": {
        "plotlyServerURL": "https://plot.ly"
       },
       "data": [
        {
         "alignmentgroup": "True",
         "hovertemplate": "contribution=%{marker.color}<br>bin_contents=%{y}<extra></extra>",
         "legendgroup": "",
         "marker": {
          "color": [
           0.022363981042654024,
           -0.005748815165876773,
           0.027795260663507113,
           0.020688625592417055,
           0.06598483412322274,
           0.017724170616113737,
           0.02714142857142857,
           -0.00774142857142857,
           0.044420952380952373,
           -0.046773809523809516
          ],
          "coloraxis": "coloraxis",
          "pattern": {
           "shape": ""
          }
         },
         "name": "",
         "offsetgroup": "",
         "orientation": "h",
         "showlegend": false,
         "textposition": "auto",
         "type": "bar",
         "x": [
          0.022363981042654024,
          -0.005748815165876773,
          0.027795260663507113,
          0.020688625592417055,
          0.06598483412322274,
          0.017724170616113737,
          0.02714142857142857,
          -0.00774142857142857,
          0.044420952380952373,
          -0.046773809523809516
         ],
         "xaxis": "x",
         "y": [
          "<=104.295",
          "[104.295:203.990]",
          "[203.990:303.040]",
          "[303.040:408.225]",
          "[408.225:507.090]",
          "[507.090:610.685]",
          "[610.685:707.465]",
          "[707.465:815.665]",
          "[815.665:910.890]",
          ">910.890"
         ],
         "yaxis": "y"
        }
       ],
       "layout": {
        "barmode": "relative",
        "coloraxis": {
         "cmid": 0,
         "colorbar": {
          "title": {
           "text": "contribution"
          }
         },
         "colorscale": [
          [
           0,
           "rgb(255,0,0)"
          ],
          [
           1,
           "rgb(0,0,255)"
          ]
         ]
        },
        "legend": {
         "tracegroupgap": 0
        },
        "template": {
         "data": {
          "bar": [
           {
            "error_x": {
             "color": "#2a3f5f"
            },
            "error_y": {
             "color": "#2a3f5f"
            },
            "marker": {
             "line": {
              "color": "#E5ECF6",
              "width": 0.5
             },
             "pattern": {
              "fillmode": "overlay",
              "size": 10,
              "solidity": 0.2
             }
            },
            "type": "bar"
           }
          ],
          "barpolar": [
           {
            "marker": {
             "line": {
              "color": "#E5ECF6",
              "width": 0.5
             },
             "pattern": {
              "fillmode": "overlay",
              "size": 10,
              "solidity": 0.2
             }
            },
            "type": "barpolar"
           }
          ],
          "carpet": [
           {
            "aaxis": {
             "endlinecolor": "#2a3f5f",
             "gridcolor": "white",
             "linecolor": "white",
             "minorgridcolor": "white",
             "startlinecolor": "#2a3f5f"
            },
            "baxis": {
             "endlinecolor": "#2a3f5f",
             "gridcolor": "white",
             "linecolor": "white",
             "minorgridcolor": "white",
             "startlinecolor": "#2a3f5f"
            },
            "type": "carpet"
           }
          ],
          "choropleth": [
           {
            "colorbar": {
             "outlinewidth": 0,
             "ticks": ""
            },
            "type": "choropleth"
           }
          ],
          "contour": [
           {
            "colorbar": {
             "outlinewidth": 0,
             "ticks": ""
            },
            "colorscale": [
             [
              0,
              "#0d0887"
             ],
             [
              0.1111111111111111,
              "#46039f"
             ],
             [
              0.2222222222222222,
              "#7201a8"
             ],
             [
              0.3333333333333333,
              "#9c179e"
             ],
             [
              0.4444444444444444,
              "#bd3786"
             ],
             [
              0.5555555555555556,
              "#d8576b"
             ],
             [
              0.6666666666666666,
              "#ed7953"
             ],
             [
              0.7777777777777778,
              "#fb9f3a"
             ],
             [
              0.8888888888888888,
              "#fdca26"
             ],
             [
              1,
              "#f0f921"
             ]
            ],
            "type": "contour"
           }
          ],
          "contourcarpet": [
           {
            "colorbar": {
             "outlinewidth": 0,
             "ticks": ""
            },
            "type": "contourcarpet"
           }
          ],
          "heatmap": [
           {
            "colorbar": {
             "outlinewidth": 0,
             "ticks": ""
            },
            "colorscale": [
             [
              0,
              "#0d0887"
             ],
             [
              0.1111111111111111,
              "#46039f"
             ],
             [
              0.2222222222222222,
              "#7201a8"
             ],
             [
              0.3333333333333333,
              "#9c179e"
             ],
             [
              0.4444444444444444,
              "#bd3786"
             ],
             [
              0.5555555555555556,
              "#d8576b"
             ],
             [
              0.6666666666666666,
              "#ed7953"
             ],
             [
              0.7777777777777778,
              "#fb9f3a"
             ],
             [
              0.8888888888888888,
              "#fdca26"
             ],
             [
              1,
              "#f0f921"
             ]
            ],
            "type": "heatmap"
           }
          ],
          "heatmapgl": [
           {
            "colorbar": {
             "outlinewidth": 0,
             "ticks": ""
            },
            "colorscale": [
             [
              0,
              "#0d0887"
             ],
             [
              0.1111111111111111,
              "#46039f"
             ],
             [
              0.2222222222222222,
              "#7201a8"
             ],
             [
              0.3333333333333333,
              "#9c179e"
             ],
             [
              0.4444444444444444,
              "#bd3786"
             ],
             [
              0.5555555555555556,
              "#d8576b"
             ],
             [
              0.6666666666666666,
              "#ed7953"
             ],
             [
              0.7777777777777778,
              "#fb9f3a"
             ],
             [
              0.8888888888888888,
              "#fdca26"
             ],
             [
              1,
              "#f0f921"
             ]
            ],
            "type": "heatmapgl"
           }
          ],
          "histogram": [
           {
            "marker": {
             "pattern": {
              "fillmode": "overlay",
              "size": 10,
              "solidity": 0.2
             }
            },
            "type": "histogram"
           }
          ],
          "histogram2d": [
           {
            "colorbar": {
             "outlinewidth": 0,
             "ticks": ""
            },
            "colorscale": [
             [
              0,
              "#0d0887"
             ],
             [
              0.1111111111111111,
              "#46039f"
             ],
             [
              0.2222222222222222,
              "#7201a8"
             ],
             [
              0.3333333333333333,
              "#9c179e"
             ],
             [
              0.4444444444444444,
              "#bd3786"
             ],
             [
              0.5555555555555556,
              "#d8576b"
             ],
             [
              0.6666666666666666,
              "#ed7953"
             ],
             [
              0.7777777777777778,
              "#fb9f3a"
             ],
             [
              0.8888888888888888,
              "#fdca26"
             ],
             [
              1,
              "#f0f921"
             ]
            ],
            "type": "histogram2d"
           }
          ],
          "histogram2dcontour": [
           {
            "colorbar": {
             "outlinewidth": 0,
             "ticks": ""
            },
            "colorscale": [
             [
              0,
              "#0d0887"
             ],
             [
              0.1111111111111111,
              "#46039f"
             ],
             [
              0.2222222222222222,
              "#7201a8"
             ],
             [
              0.3333333333333333,
              "#9c179e"
             ],
             [
              0.4444444444444444,
              "#bd3786"
             ],
             [
              0.5555555555555556,
              "#d8576b"
             ],
             [
              0.6666666666666666,
              "#ed7953"
             ],
             [
              0.7777777777777778,
              "#fb9f3a"
             ],
             [
              0.8888888888888888,
              "#fdca26"
             ],
             [
              1,
              "#f0f921"
             ]
            ],
            "type": "histogram2dcontour"
           }
          ],
          "mesh3d": [
           {
            "colorbar": {
             "outlinewidth": 0,
             "ticks": ""
            },
            "type": "mesh3d"
           }
          ],
          "parcoords": [
           {
            "line": {
             "colorbar": {
              "outlinewidth": 0,
              "ticks": ""
             }
            },
            "type": "parcoords"
           }
          ],
          "pie": [
           {
            "automargin": true,
            "type": "pie"
           }
          ],
          "scatter": [
           {
            "fillpattern": {
             "fillmode": "overlay",
             "size": 10,
             "solidity": 0.2
            },
            "type": "scatter"
           }
          ],
          "scatter3d": [
           {
            "line": {
             "colorbar": {
              "outlinewidth": 0,
              "ticks": ""
             }
            },
            "marker": {
             "colorbar": {
              "outlinewidth": 0,
              "ticks": ""
             }
            },
            "type": "scatter3d"
           }
          ],
          "scattercarpet": [
           {
            "marker": {
             "colorbar": {
              "outlinewidth": 0,
              "ticks": ""
             }
            },
            "type": "scattercarpet"
           }
          ],
          "scattergeo": [
           {
            "marker": {
             "colorbar": {
              "outlinewidth": 0,
              "ticks": ""
             }
            },
            "type": "scattergeo"
           }
          ],
          "scattergl": [
           {
            "marker": {
             "colorbar": {
              "outlinewidth": 0,
              "ticks": ""
             }
            },
            "type": "scattergl"
           }
          ],
          "scattermapbox": [
           {
            "marker": {
             "colorbar": {
              "outlinewidth": 0,
              "ticks": ""
             }
            },
            "type": "scattermapbox"
           }
          ],
          "scatterpolar": [
           {
            "marker": {
             "colorbar": {
              "outlinewidth": 0,
              "ticks": ""
             }
            },
            "type": "scatterpolar"
           }
          ],
          "scatterpolargl": [
           {
            "marker": {
             "colorbar": {
              "outlinewidth": 0,
              "ticks": ""
             }
            },
            "type": "scatterpolargl"
           }
          ],
          "scatterternary": [
           {
            "marker": {
             "colorbar": {
              "outlinewidth": 0,
              "ticks": ""
             }
            },
            "type": "scatterternary"
           }
          ],
          "surface": [
           {
            "colorbar": {
             "outlinewidth": 0,
             "ticks": ""
            },
            "colorscale": [
             [
              0,
              "#0d0887"
             ],
             [
              0.1111111111111111,
              "#46039f"
             ],
             [
              0.2222222222222222,
              "#7201a8"
             ],
             [
              0.3333333333333333,
              "#9c179e"
             ],
             [
              0.4444444444444444,
              "#bd3786"
             ],
             [
              0.5555555555555556,
              "#d8576b"
             ],
             [
              0.6666666666666666,
              "#ed7953"
             ],
             [
              0.7777777777777778,
              "#fb9f3a"
             ],
             [
              0.8888888888888888,
              "#fdca26"
             ],
             [
              1,
              "#f0f921"
             ]
            ],
            "type": "surface"
           }
          ],
          "table": [
           {
            "cells": {
             "fill": {
              "color": "#EBF0F8"
             },
             "line": {
              "color": "white"
             }
            },
            "header": {
             "fill": {
              "color": "#C8D4E3"
             },
             "line": {
              "color": "white"
             }
            },
            "type": "table"
           }
          ]
         },
         "layout": {
          "annotationdefaults": {
           "arrowcolor": "#2a3f5f",
           "arrowhead": 0,
           "arrowwidth": 1
          },
          "autotypenumbers": "strict",
          "coloraxis": {
           "colorbar": {
            "outlinewidth": 0,
            "ticks": ""
           }
          },
          "colorscale": {
           "diverging": [
            [
             0,
             "#8e0152"
            ],
            [
             0.1,
             "#c51b7d"
            ],
            [
             0.2,
             "#de77ae"
            ],
            [
             0.3,
             "#f1b6da"
            ],
            [
             0.4,
             "#fde0ef"
            ],
            [
             0.5,
             "#f7f7f7"
            ],
            [
             0.6,
             "#e6f5d0"
            ],
            [
             0.7,
             "#b8e186"
            ],
            [
             0.8,
             "#7fbc41"
            ],
            [
             0.9,
             "#4d9221"
            ],
            [
             1,
             "#276419"
            ]
           ],
           "sequential": [
            [
             0,
             "#0d0887"
            ],
            [
             0.1111111111111111,
             "#46039f"
            ],
            [
             0.2222222222222222,
             "#7201a8"
            ],
            [
             0.3333333333333333,
             "#9c179e"
            ],
            [
             0.4444444444444444,
             "#bd3786"
            ],
            [
             0.5555555555555556,
             "#d8576b"
            ],
            [
             0.6666666666666666,
             "#ed7953"
            ],
            [
             0.7777777777777778,
             "#fb9f3a"
            ],
            [
             0.8888888888888888,
             "#fdca26"
            ],
            [
             1,
             "#f0f921"
            ]
           ],
           "sequentialminus": [
            [
             0,
             "#0d0887"
            ],
            [
             0.1111111111111111,
             "#46039f"
            ],
            [
             0.2222222222222222,
             "#7201a8"
            ],
            [
             0.3333333333333333,
             "#9c179e"
            ],
            [
             0.4444444444444444,
             "#bd3786"
            ],
            [
             0.5555555555555556,
             "#d8576b"
            ],
            [
             0.6666666666666666,
             "#ed7953"
            ],
            [
             0.7777777777777778,
             "#fb9f3a"
            ],
            [
             0.8888888888888888,
             "#fdca26"
            ],
            [
             1,
             "#f0f921"
            ]
           ]
          },
          "colorway": [
           "#636efa",
           "#EF553B",
           "#00cc96",
           "#ab63fa",
           "#FFA15A",
           "#19d3f3",
           "#FF6692",
           "#B6E880",
           "#FF97FF",
           "#FECB52"
          ],
          "font": {
           "color": "#2a3f5f"
          },
          "geo": {
           "bgcolor": "white",
           "lakecolor": "white",
           "landcolor": "#E5ECF6",
           "showlakes": true,
           "showland": true,
           "subunitcolor": "white"
          },
          "hoverlabel": {
           "align": "left"
          },
          "hovermode": "closest",
          "mapbox": {
           "style": "light"
          },
          "paper_bgcolor": "white",
          "plot_bgcolor": "#E5ECF6",
          "polar": {
           "angularaxis": {
            "gridcolor": "white",
            "linecolor": "white",
            "ticks": ""
           },
           "bgcolor": "#E5ECF6",
           "radialaxis": {
            "gridcolor": "white",
            "linecolor": "white",
            "ticks": ""
           }
          },
          "scene": {
           "xaxis": {
            "backgroundcolor": "#E5ECF6",
            "gridcolor": "white",
            "gridwidth": 2,
            "linecolor": "white",
            "showbackground": true,
            "ticks": "",
            "zerolinecolor": "white"
           },
           "yaxis": {
            "backgroundcolor": "#E5ECF6",
            "gridcolor": "white",
            "gridwidth": 2,
            "linecolor": "white",
            "showbackground": true,
            "ticks": "",
            "zerolinecolor": "white"
           },
           "zaxis": {
            "backgroundcolor": "#E5ECF6",
            "gridcolor": "white",
            "gridwidth": 2,
            "linecolor": "white",
            "showbackground": true,
            "ticks": "",
            "zerolinecolor": "white"
           }
          },
          "shapedefaults": {
           "line": {
            "color": "#2a3f5f"
           }
          },
          "ternary": {
           "aaxis": {
            "gridcolor": "white",
            "linecolor": "white",
            "ticks": ""
           },
           "baxis": {
            "gridcolor": "white",
            "linecolor": "white",
            "ticks": ""
           },
           "bgcolor": "#E5ECF6",
           "caxis": {
            "gridcolor": "white",
            "linecolor": "white",
            "ticks": ""
           }
          },
          "title": {
           "x": 0.05
          },
          "xaxis": {
           "automargin": true,
           "gridcolor": "white",
           "linecolor": "white",
           "ticks": "",
           "title": {
            "standoff": 15
           },
           "zerolinecolor": "white",
           "zerolinewidth": 2
          },
          "yaxis": {
           "automargin": true,
           "gridcolor": "white",
           "linecolor": "white",
           "ticks": "",
           "title": {
            "standoff": 15
           },
           "zerolinecolor": "white",
           "zerolinewidth": 2
          }
         }
        },
        "title": {
         "text": "predictor: NUM_271"
        },
        "xaxis": {
         "anchor": "y",
         "domain": [
          0,
          1
         ],
         "title": {
          "text": "contribution"
         }
        },
        "yaxis": {
         "anchor": "x",
         "domain": [
          0,
          1
         ],
         "title": {
          "text": "bin_contents"
         }
        }
       }
      }
     },
     "metadata": {},
     "output_type": "display_data"
    },
    {
     "data": {
      "application/vnd.plotly.v1+json": {
       "config": {
        "plotlyServerURL": "https://plot.ly"
       },
       "data": [
        {
         "alignmentgroup": "True",
         "hovertemplate": "contribution=%{marker.color}<br>bin_contents=%{y}<extra></extra>",
         "legendgroup": "",
         "marker": {
          "color": [
           0.006653554502369642,
           -0.06521753554502371,
           -0.01826303317535544,
           0.0058796208530805276,
           0.07732417061611377,
           -0.04996777251184833,
           0.01897428571428573,
           0.032076666666666684,
           0.023865238095238085,
           0.04157666666666667
          ],
          "coloraxis": "coloraxis",
          "pattern": {
           "shape": ""
          }
         },
         "name": "",
         "offsetgroup": "",
         "orientation": "h",
         "showlegend": false,
         "textposition": "auto",
         "type": "bar",
         "x": [
          0.006653554502369642,
          -0.06521753554502371,
          -0.01826303317535544,
          0.0058796208530805276,
          0.07732417061611377,
          -0.04996777251184833,
          0.01897428571428573,
          0.032076666666666684,
          0.023865238095238085,
          0.04157666666666667
         ],
         "xaxis": "x",
         "y": [
          "<=108.085",
          "[108.085:199.360]",
          "[199.360:308.860]",
          "[308.860:412.360]",
          "[412.360:503.665]",
          "[503.665:603.780]",
          "[603.780:698.980]",
          "[698.980:801.845]",
          "[801.845:907.585]",
          ">907.585"
         ],
         "yaxis": "y"
        }
       ],
       "layout": {
        "barmode": "relative",
        "coloraxis": {
         "cmid": 0,
         "colorbar": {
          "title": {
           "text": "contribution"
          }
         },
         "colorscale": [
          [
           0,
           "rgb(255,0,0)"
          ],
          [
           1,
           "rgb(0,0,255)"
          ]
         ]
        },
        "legend": {
         "tracegroupgap": 0
        },
        "template": {
         "data": {
          "bar": [
           {
            "error_x": {
             "color": "#2a3f5f"
            },
            "error_y": {
             "color": "#2a3f5f"
            },
            "marker": {
             "line": {
              "color": "#E5ECF6",
              "width": 0.5
             },
             "pattern": {
              "fillmode": "overlay",
              "size": 10,
              "solidity": 0.2
             }
            },
            "type": "bar"
           }
          ],
          "barpolar": [
           {
            "marker": {
             "line": {
              "color": "#E5ECF6",
              "width": 0.5
             },
             "pattern": {
              "fillmode": "overlay",
              "size": 10,
              "solidity": 0.2
             }
            },
            "type": "barpolar"
           }
          ],
          "carpet": [
           {
            "aaxis": {
             "endlinecolor": "#2a3f5f",
             "gridcolor": "white",
             "linecolor": "white",
             "minorgridcolor": "white",
             "startlinecolor": "#2a3f5f"
            },
            "baxis": {
             "endlinecolor": "#2a3f5f",
             "gridcolor": "white",
             "linecolor": "white",
             "minorgridcolor": "white",
             "startlinecolor": "#2a3f5f"
            },
            "type": "carpet"
           }
          ],
          "choropleth": [
           {
            "colorbar": {
             "outlinewidth": 0,
             "ticks": ""
            },
            "type": "choropleth"
           }
          ],
          "contour": [
           {
            "colorbar": {
             "outlinewidth": 0,
             "ticks": ""
            },
            "colorscale": [
             [
              0,
              "#0d0887"
             ],
             [
              0.1111111111111111,
              "#46039f"
             ],
             [
              0.2222222222222222,
              "#7201a8"
             ],
             [
              0.3333333333333333,
              "#9c179e"
             ],
             [
              0.4444444444444444,
              "#bd3786"
             ],
             [
              0.5555555555555556,
              "#d8576b"
             ],
             [
              0.6666666666666666,
              "#ed7953"
             ],
             [
              0.7777777777777778,
              "#fb9f3a"
             ],
             [
              0.8888888888888888,
              "#fdca26"
             ],
             [
              1,
              "#f0f921"
             ]
            ],
            "type": "contour"
           }
          ],
          "contourcarpet": [
           {
            "colorbar": {
             "outlinewidth": 0,
             "ticks": ""
            },
            "type": "contourcarpet"
           }
          ],
          "heatmap": [
           {
            "colorbar": {
             "outlinewidth": 0,
             "ticks": ""
            },
            "colorscale": [
             [
              0,
              "#0d0887"
             ],
             [
              0.1111111111111111,
              "#46039f"
             ],
             [
              0.2222222222222222,
              "#7201a8"
             ],
             [
              0.3333333333333333,
              "#9c179e"
             ],
             [
              0.4444444444444444,
              "#bd3786"
             ],
             [
              0.5555555555555556,
              "#d8576b"
             ],
             [
              0.6666666666666666,
              "#ed7953"
             ],
             [
              0.7777777777777778,
              "#fb9f3a"
             ],
             [
              0.8888888888888888,
              "#fdca26"
             ],
             [
              1,
              "#f0f921"
             ]
            ],
            "type": "heatmap"
           }
          ],
          "heatmapgl": [
           {
            "colorbar": {
             "outlinewidth": 0,
             "ticks": ""
            },
            "colorscale": [
             [
              0,
              "#0d0887"
             ],
             [
              0.1111111111111111,
              "#46039f"
             ],
             [
              0.2222222222222222,
              "#7201a8"
             ],
             [
              0.3333333333333333,
              "#9c179e"
             ],
             [
              0.4444444444444444,
              "#bd3786"
             ],
             [
              0.5555555555555556,
              "#d8576b"
             ],
             [
              0.6666666666666666,
              "#ed7953"
             ],
             [
              0.7777777777777778,
              "#fb9f3a"
             ],
             [
              0.8888888888888888,
              "#fdca26"
             ],
             [
              1,
              "#f0f921"
             ]
            ],
            "type": "heatmapgl"
           }
          ],
          "histogram": [
           {
            "marker": {
             "pattern": {
              "fillmode": "overlay",
              "size": 10,
              "solidity": 0.2
             }
            },
            "type": "histogram"
           }
          ],
          "histogram2d": [
           {
            "colorbar": {
             "outlinewidth": 0,
             "ticks": ""
            },
            "colorscale": [
             [
              0,
              "#0d0887"
             ],
             [
              0.1111111111111111,
              "#46039f"
             ],
             [
              0.2222222222222222,
              "#7201a8"
             ],
             [
              0.3333333333333333,
              "#9c179e"
             ],
             [
              0.4444444444444444,
              "#bd3786"
             ],
             [
              0.5555555555555556,
              "#d8576b"
             ],
             [
              0.6666666666666666,
              "#ed7953"
             ],
             [
              0.7777777777777778,
              "#fb9f3a"
             ],
             [
              0.8888888888888888,
              "#fdca26"
             ],
             [
              1,
              "#f0f921"
             ]
            ],
            "type": "histogram2d"
           }
          ],
          "histogram2dcontour": [
           {
            "colorbar": {
             "outlinewidth": 0,
             "ticks": ""
            },
            "colorscale": [
             [
              0,
              "#0d0887"
             ],
             [
              0.1111111111111111,
              "#46039f"
             ],
             [
              0.2222222222222222,
              "#7201a8"
             ],
             [
              0.3333333333333333,
              "#9c179e"
             ],
             [
              0.4444444444444444,
              "#bd3786"
             ],
             [
              0.5555555555555556,
              "#d8576b"
             ],
             [
              0.6666666666666666,
              "#ed7953"
             ],
             [
              0.7777777777777778,
              "#fb9f3a"
             ],
             [
              0.8888888888888888,
              "#fdca26"
             ],
             [
              1,
              "#f0f921"
             ]
            ],
            "type": "histogram2dcontour"
           }
          ],
          "mesh3d": [
           {
            "colorbar": {
             "outlinewidth": 0,
             "ticks": ""
            },
            "type": "mesh3d"
           }
          ],
          "parcoords": [
           {
            "line": {
             "colorbar": {
              "outlinewidth": 0,
              "ticks": ""
             }
            },
            "type": "parcoords"
           }
          ],
          "pie": [
           {
            "automargin": true,
            "type": "pie"
           }
          ],
          "scatter": [
           {
            "fillpattern": {
             "fillmode": "overlay",
             "size": 10,
             "solidity": 0.2
            },
            "type": "scatter"
           }
          ],
          "scatter3d": [
           {
            "line": {
             "colorbar": {
              "outlinewidth": 0,
              "ticks": ""
             }
            },
            "marker": {
             "colorbar": {
              "outlinewidth": 0,
              "ticks": ""
             }
            },
            "type": "scatter3d"
           }
          ],
          "scattercarpet": [
           {
            "marker": {
             "colorbar": {
              "outlinewidth": 0,
              "ticks": ""
             }
            },
            "type": "scattercarpet"
           }
          ],
          "scattergeo": [
           {
            "marker": {
             "colorbar": {
              "outlinewidth": 0,
              "ticks": ""
             }
            },
            "type": "scattergeo"
           }
          ],
          "scattergl": [
           {
            "marker": {
             "colorbar": {
              "outlinewidth": 0,
              "ticks": ""
             }
            },
            "type": "scattergl"
           }
          ],
          "scattermapbox": [
           {
            "marker": {
             "colorbar": {
              "outlinewidth": 0,
              "ticks": ""
             }
            },
            "type": "scattermapbox"
           }
          ],
          "scatterpolar": [
           {
            "marker": {
             "colorbar": {
              "outlinewidth": 0,
              "ticks": ""
             }
            },
            "type": "scatterpolar"
           }
          ],
          "scatterpolargl": [
           {
            "marker": {
             "colorbar": {
              "outlinewidth": 0,
              "ticks": ""
             }
            },
            "type": "scatterpolargl"
           }
          ],
          "scatterternary": [
           {
            "marker": {
             "colorbar": {
              "outlinewidth": 0,
              "ticks": ""
             }
            },
            "type": "scatterternary"
           }
          ],
          "surface": [
           {
            "colorbar": {
             "outlinewidth": 0,
             "ticks": ""
            },
            "colorscale": [
             [
              0,
              "#0d0887"
             ],
             [
              0.1111111111111111,
              "#46039f"
             ],
             [
              0.2222222222222222,
              "#7201a8"
             ],
             [
              0.3333333333333333,
              "#9c179e"
             ],
             [
              0.4444444444444444,
              "#bd3786"
             ],
             [
              0.5555555555555556,
              "#d8576b"
             ],
             [
              0.6666666666666666,
              "#ed7953"
             ],
             [
              0.7777777777777778,
              "#fb9f3a"
             ],
             [
              0.8888888888888888,
              "#fdca26"
             ],
             [
              1,
              "#f0f921"
             ]
            ],
            "type": "surface"
           }
          ],
          "table": [
           {
            "cells": {
             "fill": {
              "color": "#EBF0F8"
             },
             "line": {
              "color": "white"
             }
            },
            "header": {
             "fill": {
              "color": "#C8D4E3"
             },
             "line": {
              "color": "white"
             }
            },
            "type": "table"
           }
          ]
         },
         "layout": {
          "annotationdefaults": {
           "arrowcolor": "#2a3f5f",
           "arrowhead": 0,
           "arrowwidth": 1
          },
          "autotypenumbers": "strict",
          "coloraxis": {
           "colorbar": {
            "outlinewidth": 0,
            "ticks": ""
           }
          },
          "colorscale": {
           "diverging": [
            [
             0,
             "#8e0152"
            ],
            [
             0.1,
             "#c51b7d"
            ],
            [
             0.2,
             "#de77ae"
            ],
            [
             0.3,
             "#f1b6da"
            ],
            [
             0.4,
             "#fde0ef"
            ],
            [
             0.5,
             "#f7f7f7"
            ],
            [
             0.6,
             "#e6f5d0"
            ],
            [
             0.7,
             "#b8e186"
            ],
            [
             0.8,
             "#7fbc41"
            ],
            [
             0.9,
             "#4d9221"
            ],
            [
             1,
             "#276419"
            ]
           ],
           "sequential": [
            [
             0,
             "#0d0887"
            ],
            [
             0.1111111111111111,
             "#46039f"
            ],
            [
             0.2222222222222222,
             "#7201a8"
            ],
            [
             0.3333333333333333,
             "#9c179e"
            ],
            [
             0.4444444444444444,
             "#bd3786"
            ],
            [
             0.5555555555555556,
             "#d8576b"
            ],
            [
             0.6666666666666666,
             "#ed7953"
            ],
            [
             0.7777777777777778,
             "#fb9f3a"
            ],
            [
             0.8888888888888888,
             "#fdca26"
            ],
            [
             1,
             "#f0f921"
            ]
           ],
           "sequentialminus": [
            [
             0,
             "#0d0887"
            ],
            [
             0.1111111111111111,
             "#46039f"
            ],
            [
             0.2222222222222222,
             "#7201a8"
            ],
            [
             0.3333333333333333,
             "#9c179e"
            ],
            [
             0.4444444444444444,
             "#bd3786"
            ],
            [
             0.5555555555555556,
             "#d8576b"
            ],
            [
             0.6666666666666666,
             "#ed7953"
            ],
            [
             0.7777777777777778,
             "#fb9f3a"
            ],
            [
             0.8888888888888888,
             "#fdca26"
            ],
            [
             1,
             "#f0f921"
            ]
           ]
          },
          "colorway": [
           "#636efa",
           "#EF553B",
           "#00cc96",
           "#ab63fa",
           "#FFA15A",
           "#19d3f3",
           "#FF6692",
           "#B6E880",
           "#FF97FF",
           "#FECB52"
          ],
          "font": {
           "color": "#2a3f5f"
          },
          "geo": {
           "bgcolor": "white",
           "lakecolor": "white",
           "landcolor": "#E5ECF6",
           "showlakes": true,
           "showland": true,
           "subunitcolor": "white"
          },
          "hoverlabel": {
           "align": "left"
          },
          "hovermode": "closest",
          "mapbox": {
           "style": "light"
          },
          "paper_bgcolor": "white",
          "plot_bgcolor": "#E5ECF6",
          "polar": {
           "angularaxis": {
            "gridcolor": "white",
            "linecolor": "white",
            "ticks": ""
           },
           "bgcolor": "#E5ECF6",
           "radialaxis": {
            "gridcolor": "white",
            "linecolor": "white",
            "ticks": ""
           }
          },
          "scene": {
           "xaxis": {
            "backgroundcolor": "#E5ECF6",
            "gridcolor": "white",
            "gridwidth": 2,
            "linecolor": "white",
            "showbackground": true,
            "ticks": "",
            "zerolinecolor": "white"
           },
           "yaxis": {
            "backgroundcolor": "#E5ECF6",
            "gridcolor": "white",
            "gridwidth": 2,
            "linecolor": "white",
            "showbackground": true,
            "ticks": "",
            "zerolinecolor": "white"
           },
           "zaxis": {
            "backgroundcolor": "#E5ECF6",
            "gridcolor": "white",
            "gridwidth": 2,
            "linecolor": "white",
            "showbackground": true,
            "ticks": "",
            "zerolinecolor": "white"
           }
          },
          "shapedefaults": {
           "line": {
            "color": "#2a3f5f"
           }
          },
          "ternary": {
           "aaxis": {
            "gridcolor": "white",
            "linecolor": "white",
            "ticks": ""
           },
           "baxis": {
            "gridcolor": "white",
            "linecolor": "white",
            "ticks": ""
           },
           "bgcolor": "#E5ECF6",
           "caxis": {
            "gridcolor": "white",
            "linecolor": "white",
            "ticks": ""
           }
          },
          "title": {
           "x": 0.05
          },
          "xaxis": {
           "automargin": true,
           "gridcolor": "white",
           "linecolor": "white",
           "ticks": "",
           "title": {
            "standoff": 15
           },
           "zerolinecolor": "white",
           "zerolinewidth": 2
          },
          "yaxis": {
           "automargin": true,
           "gridcolor": "white",
           "linecolor": "white",
           "ticks": "",
           "title": {
            "standoff": 15
           },
           "zerolinecolor": "white",
           "zerolinewidth": 2
          }
         }
        },
        "title": {
         "text": "predictor: NUM_201"
        },
        "xaxis": {
         "anchor": "y",
         "domain": [
          0,
          1
         ],
         "title": {
          "text": "contribution"
         }
        },
        "yaxis": {
         "anchor": "x",
         "domain": [
          0,
          1
         ],
         "title": {
          "text": "bin_contents"
         }
        }
       }
      }
     },
     "metadata": {},
     "output_type": "display_data"
    },
    {
     "data": {
      "application/vnd.plotly.v1+json": {
       "config": {
        "plotlyServerURL": "https://plot.ly"
       },
       "data": [
        {
         "alignmentgroup": "True",
         "hovertemplate": "contribution=%{marker.color}<br>bin_contents=%{y}<extra></extra>",
         "legendgroup": "",
         "marker": {
          "color": [
           -0.059049763033175384,
           0.03105355450236967,
           0.011751658767772516,
           0.14063033175355455,
           0.024943601895734607,
           0.025972037914691937,
           0.018702380952380956,
           -0.038678571428571416,
           0.08777190476190479,
           -0.01915380952380955
          ],
          "coloraxis": "coloraxis",
          "pattern": {
           "shape": ""
          }
         },
         "name": "",
         "offsetgroup": "",
         "orientation": "h",
         "showlegend": false,
         "textposition": "auto",
         "type": "bar",
         "x": [
          -0.059049763033175384,
          0.03105355450236967,
          0.011751658767772516,
          0.14063033175355455,
          0.024943601895734607,
          0.025972037914691937,
          0.018702380952380956,
          -0.038678571428571416,
          0.08777190476190479,
          -0.01915380952380955
         ],
         "xaxis": "x",
         "y": [
          "<=93.625",
          "[93.625:185.425]",
          "[185.425:289.485]",
          "[289.485:396.130]",
          "[396.130:499.820]",
          "[499.820:598.260]",
          "[598.260:691.490]",
          "[691.490:800.355]",
          "[800.355:903.105]",
          ">903.105"
         ],
         "yaxis": "y"
        }
       ],
       "layout": {
        "barmode": "relative",
        "coloraxis": {
         "cmid": 0,
         "colorbar": {
          "title": {
           "text": "contribution"
          }
         },
         "colorscale": [
          [
           0,
           "rgb(255,0,0)"
          ],
          [
           1,
           "rgb(0,0,255)"
          ]
         ]
        },
        "legend": {
         "tracegroupgap": 0
        },
        "template": {
         "data": {
          "bar": [
           {
            "error_x": {
             "color": "#2a3f5f"
            },
            "error_y": {
             "color": "#2a3f5f"
            },
            "marker": {
             "line": {
              "color": "#E5ECF6",
              "width": 0.5
             },
             "pattern": {
              "fillmode": "overlay",
              "size": 10,
              "solidity": 0.2
             }
            },
            "type": "bar"
           }
          ],
          "barpolar": [
           {
            "marker": {
             "line": {
              "color": "#E5ECF6",
              "width": 0.5
             },
             "pattern": {
              "fillmode": "overlay",
              "size": 10,
              "solidity": 0.2
             }
            },
            "type": "barpolar"
           }
          ],
          "carpet": [
           {
            "aaxis": {
             "endlinecolor": "#2a3f5f",
             "gridcolor": "white",
             "linecolor": "white",
             "minorgridcolor": "white",
             "startlinecolor": "#2a3f5f"
            },
            "baxis": {
             "endlinecolor": "#2a3f5f",
             "gridcolor": "white",
             "linecolor": "white",
             "minorgridcolor": "white",
             "startlinecolor": "#2a3f5f"
            },
            "type": "carpet"
           }
          ],
          "choropleth": [
           {
            "colorbar": {
             "outlinewidth": 0,
             "ticks": ""
            },
            "type": "choropleth"
           }
          ],
          "contour": [
           {
            "colorbar": {
             "outlinewidth": 0,
             "ticks": ""
            },
            "colorscale": [
             [
              0,
              "#0d0887"
             ],
             [
              0.1111111111111111,
              "#46039f"
             ],
             [
              0.2222222222222222,
              "#7201a8"
             ],
             [
              0.3333333333333333,
              "#9c179e"
             ],
             [
              0.4444444444444444,
              "#bd3786"
             ],
             [
              0.5555555555555556,
              "#d8576b"
             ],
             [
              0.6666666666666666,
              "#ed7953"
             ],
             [
              0.7777777777777778,
              "#fb9f3a"
             ],
             [
              0.8888888888888888,
              "#fdca26"
             ],
             [
              1,
              "#f0f921"
             ]
            ],
            "type": "contour"
           }
          ],
          "contourcarpet": [
           {
            "colorbar": {
             "outlinewidth": 0,
             "ticks": ""
            },
            "type": "contourcarpet"
           }
          ],
          "heatmap": [
           {
            "colorbar": {
             "outlinewidth": 0,
             "ticks": ""
            },
            "colorscale": [
             [
              0,
              "#0d0887"
             ],
             [
              0.1111111111111111,
              "#46039f"
             ],
             [
              0.2222222222222222,
              "#7201a8"
             ],
             [
              0.3333333333333333,
              "#9c179e"
             ],
             [
              0.4444444444444444,
              "#bd3786"
             ],
             [
              0.5555555555555556,
              "#d8576b"
             ],
             [
              0.6666666666666666,
              "#ed7953"
             ],
             [
              0.7777777777777778,
              "#fb9f3a"
             ],
             [
              0.8888888888888888,
              "#fdca26"
             ],
             [
              1,
              "#f0f921"
             ]
            ],
            "type": "heatmap"
           }
          ],
          "heatmapgl": [
           {
            "colorbar": {
             "outlinewidth": 0,
             "ticks": ""
            },
            "colorscale": [
             [
              0,
              "#0d0887"
             ],
             [
              0.1111111111111111,
              "#46039f"
             ],
             [
              0.2222222222222222,
              "#7201a8"
             ],
             [
              0.3333333333333333,
              "#9c179e"
             ],
             [
              0.4444444444444444,
              "#bd3786"
             ],
             [
              0.5555555555555556,
              "#d8576b"
             ],
             [
              0.6666666666666666,
              "#ed7953"
             ],
             [
              0.7777777777777778,
              "#fb9f3a"
             ],
             [
              0.8888888888888888,
              "#fdca26"
             ],
             [
              1,
              "#f0f921"
             ]
            ],
            "type": "heatmapgl"
           }
          ],
          "histogram": [
           {
            "marker": {
             "pattern": {
              "fillmode": "overlay",
              "size": 10,
              "solidity": 0.2
             }
            },
            "type": "histogram"
           }
          ],
          "histogram2d": [
           {
            "colorbar": {
             "outlinewidth": 0,
             "ticks": ""
            },
            "colorscale": [
             [
              0,
              "#0d0887"
             ],
             [
              0.1111111111111111,
              "#46039f"
             ],
             [
              0.2222222222222222,
              "#7201a8"
             ],
             [
              0.3333333333333333,
              "#9c179e"
             ],
             [
              0.4444444444444444,
              "#bd3786"
             ],
             [
              0.5555555555555556,
              "#d8576b"
             ],
             [
              0.6666666666666666,
              "#ed7953"
             ],
             [
              0.7777777777777778,
              "#fb9f3a"
             ],
             [
              0.8888888888888888,
              "#fdca26"
             ],
             [
              1,
              "#f0f921"
             ]
            ],
            "type": "histogram2d"
           }
          ],
          "histogram2dcontour": [
           {
            "colorbar": {
             "outlinewidth": 0,
             "ticks": ""
            },
            "colorscale": [
             [
              0,
              "#0d0887"
             ],
             [
              0.1111111111111111,
              "#46039f"
             ],
             [
              0.2222222222222222,
              "#7201a8"
             ],
             [
              0.3333333333333333,
              "#9c179e"
             ],
             [
              0.4444444444444444,
              "#bd3786"
             ],
             [
              0.5555555555555556,
              "#d8576b"
             ],
             [
              0.6666666666666666,
              "#ed7953"
             ],
             [
              0.7777777777777778,
              "#fb9f3a"
             ],
             [
              0.8888888888888888,
              "#fdca26"
             ],
             [
              1,
              "#f0f921"
             ]
            ],
            "type": "histogram2dcontour"
           }
          ],
          "mesh3d": [
           {
            "colorbar": {
             "outlinewidth": 0,
             "ticks": ""
            },
            "type": "mesh3d"
           }
          ],
          "parcoords": [
           {
            "line": {
             "colorbar": {
              "outlinewidth": 0,
              "ticks": ""
             }
            },
            "type": "parcoords"
           }
          ],
          "pie": [
           {
            "automargin": true,
            "type": "pie"
           }
          ],
          "scatter": [
           {
            "fillpattern": {
             "fillmode": "overlay",
             "size": 10,
             "solidity": 0.2
            },
            "type": "scatter"
           }
          ],
          "scatter3d": [
           {
            "line": {
             "colorbar": {
              "outlinewidth": 0,
              "ticks": ""
             }
            },
            "marker": {
             "colorbar": {
              "outlinewidth": 0,
              "ticks": ""
             }
            },
            "type": "scatter3d"
           }
          ],
          "scattercarpet": [
           {
            "marker": {
             "colorbar": {
              "outlinewidth": 0,
              "ticks": ""
             }
            },
            "type": "scattercarpet"
           }
          ],
          "scattergeo": [
           {
            "marker": {
             "colorbar": {
              "outlinewidth": 0,
              "ticks": ""
             }
            },
            "type": "scattergeo"
           }
          ],
          "scattergl": [
           {
            "marker": {
             "colorbar": {
              "outlinewidth": 0,
              "ticks": ""
             }
            },
            "type": "scattergl"
           }
          ],
          "scattermapbox": [
           {
            "marker": {
             "colorbar": {
              "outlinewidth": 0,
              "ticks": ""
             }
            },
            "type": "scattermapbox"
           }
          ],
          "scatterpolar": [
           {
            "marker": {
             "colorbar": {
              "outlinewidth": 0,
              "ticks": ""
             }
            },
            "type": "scatterpolar"
           }
          ],
          "scatterpolargl": [
           {
            "marker": {
             "colorbar": {
              "outlinewidth": 0,
              "ticks": ""
             }
            },
            "type": "scatterpolargl"
           }
          ],
          "scatterternary": [
           {
            "marker": {
             "colorbar": {
              "outlinewidth": 0,
              "ticks": ""
             }
            },
            "type": "scatterternary"
           }
          ],
          "surface": [
           {
            "colorbar": {
             "outlinewidth": 0,
             "ticks": ""
            },
            "colorscale": [
             [
              0,
              "#0d0887"
             ],
             [
              0.1111111111111111,
              "#46039f"
             ],
             [
              0.2222222222222222,
              "#7201a8"
             ],
             [
              0.3333333333333333,
              "#9c179e"
             ],
             [
              0.4444444444444444,
              "#bd3786"
             ],
             [
              0.5555555555555556,
              "#d8576b"
             ],
             [
              0.6666666666666666,
              "#ed7953"
             ],
             [
              0.7777777777777778,
              "#fb9f3a"
             ],
             [
              0.8888888888888888,
              "#fdca26"
             ],
             [
              1,
              "#f0f921"
             ]
            ],
            "type": "surface"
           }
          ],
          "table": [
           {
            "cells": {
             "fill": {
              "color": "#EBF0F8"
             },
             "line": {
              "color": "white"
             }
            },
            "header": {
             "fill": {
              "color": "#C8D4E3"
             },
             "line": {
              "color": "white"
             }
            },
            "type": "table"
           }
          ]
         },
         "layout": {
          "annotationdefaults": {
           "arrowcolor": "#2a3f5f",
           "arrowhead": 0,
           "arrowwidth": 1
          },
          "autotypenumbers": "strict",
          "coloraxis": {
           "colorbar": {
            "outlinewidth": 0,
            "ticks": ""
           }
          },
          "colorscale": {
           "diverging": [
            [
             0,
             "#8e0152"
            ],
            [
             0.1,
             "#c51b7d"
            ],
            [
             0.2,
             "#de77ae"
            ],
            [
             0.3,
             "#f1b6da"
            ],
            [
             0.4,
             "#fde0ef"
            ],
            [
             0.5,
             "#f7f7f7"
            ],
            [
             0.6,
             "#e6f5d0"
            ],
            [
             0.7,
             "#b8e186"
            ],
            [
             0.8,
             "#7fbc41"
            ],
            [
             0.9,
             "#4d9221"
            ],
            [
             1,
             "#276419"
            ]
           ],
           "sequential": [
            [
             0,
             "#0d0887"
            ],
            [
             0.1111111111111111,
             "#46039f"
            ],
            [
             0.2222222222222222,
             "#7201a8"
            ],
            [
             0.3333333333333333,
             "#9c179e"
            ],
            [
             0.4444444444444444,
             "#bd3786"
            ],
            [
             0.5555555555555556,
             "#d8576b"
            ],
            [
             0.6666666666666666,
             "#ed7953"
            ],
            [
             0.7777777777777778,
             "#fb9f3a"
            ],
            [
             0.8888888888888888,
             "#fdca26"
            ],
            [
             1,
             "#f0f921"
            ]
           ],
           "sequentialminus": [
            [
             0,
             "#0d0887"
            ],
            [
             0.1111111111111111,
             "#46039f"
            ],
            [
             0.2222222222222222,
             "#7201a8"
            ],
            [
             0.3333333333333333,
             "#9c179e"
            ],
            [
             0.4444444444444444,
             "#bd3786"
            ],
            [
             0.5555555555555556,
             "#d8576b"
            ],
            [
             0.6666666666666666,
             "#ed7953"
            ],
            [
             0.7777777777777778,
             "#fb9f3a"
            ],
            [
             0.8888888888888888,
             "#fdca26"
            ],
            [
             1,
             "#f0f921"
            ]
           ]
          },
          "colorway": [
           "#636efa",
           "#EF553B",
           "#00cc96",
           "#ab63fa",
           "#FFA15A",
           "#19d3f3",
           "#FF6692",
           "#B6E880",
           "#FF97FF",
           "#FECB52"
          ],
          "font": {
           "color": "#2a3f5f"
          },
          "geo": {
           "bgcolor": "white",
           "lakecolor": "white",
           "landcolor": "#E5ECF6",
           "showlakes": true,
           "showland": true,
           "subunitcolor": "white"
          },
          "hoverlabel": {
           "align": "left"
          },
          "hovermode": "closest",
          "mapbox": {
           "style": "light"
          },
          "paper_bgcolor": "white",
          "plot_bgcolor": "#E5ECF6",
          "polar": {
           "angularaxis": {
            "gridcolor": "white",
            "linecolor": "white",
            "ticks": ""
           },
           "bgcolor": "#E5ECF6",
           "radialaxis": {
            "gridcolor": "white",
            "linecolor": "white",
            "ticks": ""
           }
          },
          "scene": {
           "xaxis": {
            "backgroundcolor": "#E5ECF6",
            "gridcolor": "white",
            "gridwidth": 2,
            "linecolor": "white",
            "showbackground": true,
            "ticks": "",
            "zerolinecolor": "white"
           },
           "yaxis": {
            "backgroundcolor": "#E5ECF6",
            "gridcolor": "white",
            "gridwidth": 2,
            "linecolor": "white",
            "showbackground": true,
            "ticks": "",
            "zerolinecolor": "white"
           },
           "zaxis": {
            "backgroundcolor": "#E5ECF6",
            "gridcolor": "white",
            "gridwidth": 2,
            "linecolor": "white",
            "showbackground": true,
            "ticks": "",
            "zerolinecolor": "white"
           }
          },
          "shapedefaults": {
           "line": {
            "color": "#2a3f5f"
           }
          },
          "ternary": {
           "aaxis": {
            "gridcolor": "white",
            "linecolor": "white",
            "ticks": ""
           },
           "baxis": {
            "gridcolor": "white",
            "linecolor": "white",
            "ticks": ""
           },
           "bgcolor": "#E5ECF6",
           "caxis": {
            "gridcolor": "white",
            "linecolor": "white",
            "ticks": ""
           }
          },
          "title": {
           "x": 0.05
          },
          "xaxis": {
           "automargin": true,
           "gridcolor": "white",
           "linecolor": "white",
           "ticks": "",
           "title": {
            "standoff": 15
           },
           "zerolinecolor": "white",
           "zerolinewidth": 2
          },
          "yaxis": {
           "automargin": true,
           "gridcolor": "white",
           "linecolor": "white",
           "ticks": "",
           "title": {
            "standoff": 15
           },
           "zerolinecolor": "white",
           "zerolinewidth": 2
          }
         }
        },
        "title": {
         "text": "predictor: NUM_42"
        },
        "xaxis": {
         "anchor": "y",
         "domain": [
          0,
          1
         ],
         "title": {
          "text": "contribution"
         }
        },
        "yaxis": {
         "anchor": "x",
         "domain": [
          0,
          1
         ],
         "title": {
          "text": "bin_contents"
         }
        }
       }
      }
     },
     "metadata": {},
     "output_type": "display_data"
    },
    {
     "data": {
      "application/vnd.plotly.v1+json": {
       "config": {
        "plotlyServerURL": "https://plot.ly"
       },
       "data": [
        {
         "alignmentgroup": "True",
         "hovertemplate": "contribution=%{marker.color}<br>bin_contents=%{y}<extra></extra>",
         "legendgroup": "",
         "marker": {
          "color": [
           -0.0034611374407583213,
           0.03469289099526066,
           -0.07136303317535542,
           0.01892796208530805,
           -0.018530331753554487,
           -0.021720853080568717,
           0.056853809523809515,
           -0.006050952380952375,
           0.019746666666666666,
           -0.017698571428571428
          ],
          "coloraxis": "coloraxis",
          "pattern": {
           "shape": ""
          }
         },
         "name": "",
         "offsetgroup": "",
         "orientation": "h",
         "showlegend": false,
         "textposition": "auto",
         "type": "bar",
         "x": [
          -0.0034611374407583213,
          0.03469289099526066,
          -0.07136303317535542,
          0.01892796208530805,
          -0.018530331753554487,
          -0.021720853080568717,
          0.056853809523809515,
          -0.006050952380952375,
          0.019746666666666666,
          -0.017698571428571428
         ],
         "xaxis": "x",
         "y": [
          "<=102.840",
          "[102.840:200.330]",
          "[200.330:280.585]",
          "[280.585:381.575]",
          "[381.575:484.695]",
          "[484.695:584.985]",
          "[584.985:684.405]",
          "[684.405:783.865]",
          "[783.865:899.110]",
          ">899.110"
         ],
         "yaxis": "y"
        }
       ],
       "layout": {
        "barmode": "relative",
        "coloraxis": {
         "cmid": 0,
         "colorbar": {
          "title": {
           "text": "contribution"
          }
         },
         "colorscale": [
          [
           0,
           "rgb(255,0,0)"
          ],
          [
           1,
           "rgb(0,0,255)"
          ]
         ]
        },
        "legend": {
         "tracegroupgap": 0
        },
        "template": {
         "data": {
          "bar": [
           {
            "error_x": {
             "color": "#2a3f5f"
            },
            "error_y": {
             "color": "#2a3f5f"
            },
            "marker": {
             "line": {
              "color": "#E5ECF6",
              "width": 0.5
             },
             "pattern": {
              "fillmode": "overlay",
              "size": 10,
              "solidity": 0.2
             }
            },
            "type": "bar"
           }
          ],
          "barpolar": [
           {
            "marker": {
             "line": {
              "color": "#E5ECF6",
              "width": 0.5
             },
             "pattern": {
              "fillmode": "overlay",
              "size": 10,
              "solidity": 0.2
             }
            },
            "type": "barpolar"
           }
          ],
          "carpet": [
           {
            "aaxis": {
             "endlinecolor": "#2a3f5f",
             "gridcolor": "white",
             "linecolor": "white",
             "minorgridcolor": "white",
             "startlinecolor": "#2a3f5f"
            },
            "baxis": {
             "endlinecolor": "#2a3f5f",
             "gridcolor": "white",
             "linecolor": "white",
             "minorgridcolor": "white",
             "startlinecolor": "#2a3f5f"
            },
            "type": "carpet"
           }
          ],
          "choropleth": [
           {
            "colorbar": {
             "outlinewidth": 0,
             "ticks": ""
            },
            "type": "choropleth"
           }
          ],
          "contour": [
           {
            "colorbar": {
             "outlinewidth": 0,
             "ticks": ""
            },
            "colorscale": [
             [
              0,
              "#0d0887"
             ],
             [
              0.1111111111111111,
              "#46039f"
             ],
             [
              0.2222222222222222,
              "#7201a8"
             ],
             [
              0.3333333333333333,
              "#9c179e"
             ],
             [
              0.4444444444444444,
              "#bd3786"
             ],
             [
              0.5555555555555556,
              "#d8576b"
             ],
             [
              0.6666666666666666,
              "#ed7953"
             ],
             [
              0.7777777777777778,
              "#fb9f3a"
             ],
             [
              0.8888888888888888,
              "#fdca26"
             ],
             [
              1,
              "#f0f921"
             ]
            ],
            "type": "contour"
           }
          ],
          "contourcarpet": [
           {
            "colorbar": {
             "outlinewidth": 0,
             "ticks": ""
            },
            "type": "contourcarpet"
           }
          ],
          "heatmap": [
           {
            "colorbar": {
             "outlinewidth": 0,
             "ticks": ""
            },
            "colorscale": [
             [
              0,
              "#0d0887"
             ],
             [
              0.1111111111111111,
              "#46039f"
             ],
             [
              0.2222222222222222,
              "#7201a8"
             ],
             [
              0.3333333333333333,
              "#9c179e"
             ],
             [
              0.4444444444444444,
              "#bd3786"
             ],
             [
              0.5555555555555556,
              "#d8576b"
             ],
             [
              0.6666666666666666,
              "#ed7953"
             ],
             [
              0.7777777777777778,
              "#fb9f3a"
             ],
             [
              0.8888888888888888,
              "#fdca26"
             ],
             [
              1,
              "#f0f921"
             ]
            ],
            "type": "heatmap"
           }
          ],
          "heatmapgl": [
           {
            "colorbar": {
             "outlinewidth": 0,
             "ticks": ""
            },
            "colorscale": [
             [
              0,
              "#0d0887"
             ],
             [
              0.1111111111111111,
              "#46039f"
             ],
             [
              0.2222222222222222,
              "#7201a8"
             ],
             [
              0.3333333333333333,
              "#9c179e"
             ],
             [
              0.4444444444444444,
              "#bd3786"
             ],
             [
              0.5555555555555556,
              "#d8576b"
             ],
             [
              0.6666666666666666,
              "#ed7953"
             ],
             [
              0.7777777777777778,
              "#fb9f3a"
             ],
             [
              0.8888888888888888,
              "#fdca26"
             ],
             [
              1,
              "#f0f921"
             ]
            ],
            "type": "heatmapgl"
           }
          ],
          "histogram": [
           {
            "marker": {
             "pattern": {
              "fillmode": "overlay",
              "size": 10,
              "solidity": 0.2
             }
            },
            "type": "histogram"
           }
          ],
          "histogram2d": [
           {
            "colorbar": {
             "outlinewidth": 0,
             "ticks": ""
            },
            "colorscale": [
             [
              0,
              "#0d0887"
             ],
             [
              0.1111111111111111,
              "#46039f"
             ],
             [
              0.2222222222222222,
              "#7201a8"
             ],
             [
              0.3333333333333333,
              "#9c179e"
             ],
             [
              0.4444444444444444,
              "#bd3786"
             ],
             [
              0.5555555555555556,
              "#d8576b"
             ],
             [
              0.6666666666666666,
              "#ed7953"
             ],
             [
              0.7777777777777778,
              "#fb9f3a"
             ],
             [
              0.8888888888888888,
              "#fdca26"
             ],
             [
              1,
              "#f0f921"
             ]
            ],
            "type": "histogram2d"
           }
          ],
          "histogram2dcontour": [
           {
            "colorbar": {
             "outlinewidth": 0,
             "ticks": ""
            },
            "colorscale": [
             [
              0,
              "#0d0887"
             ],
             [
              0.1111111111111111,
              "#46039f"
             ],
             [
              0.2222222222222222,
              "#7201a8"
             ],
             [
              0.3333333333333333,
              "#9c179e"
             ],
             [
              0.4444444444444444,
              "#bd3786"
             ],
             [
              0.5555555555555556,
              "#d8576b"
             ],
             [
              0.6666666666666666,
              "#ed7953"
             ],
             [
              0.7777777777777778,
              "#fb9f3a"
             ],
             [
              0.8888888888888888,
              "#fdca26"
             ],
             [
              1,
              "#f0f921"
             ]
            ],
            "type": "histogram2dcontour"
           }
          ],
          "mesh3d": [
           {
            "colorbar": {
             "outlinewidth": 0,
             "ticks": ""
            },
            "type": "mesh3d"
           }
          ],
          "parcoords": [
           {
            "line": {
             "colorbar": {
              "outlinewidth": 0,
              "ticks": ""
             }
            },
            "type": "parcoords"
           }
          ],
          "pie": [
           {
            "automargin": true,
            "type": "pie"
           }
          ],
          "scatter": [
           {
            "fillpattern": {
             "fillmode": "overlay",
             "size": 10,
             "solidity": 0.2
            },
            "type": "scatter"
           }
          ],
          "scatter3d": [
           {
            "line": {
             "colorbar": {
              "outlinewidth": 0,
              "ticks": ""
             }
            },
            "marker": {
             "colorbar": {
              "outlinewidth": 0,
              "ticks": ""
             }
            },
            "type": "scatter3d"
           }
          ],
          "scattercarpet": [
           {
            "marker": {
             "colorbar": {
              "outlinewidth": 0,
              "ticks": ""
             }
            },
            "type": "scattercarpet"
           }
          ],
          "scattergeo": [
           {
            "marker": {
             "colorbar": {
              "outlinewidth": 0,
              "ticks": ""
             }
            },
            "type": "scattergeo"
           }
          ],
          "scattergl": [
           {
            "marker": {
             "colorbar": {
              "outlinewidth": 0,
              "ticks": ""
             }
            },
            "type": "scattergl"
           }
          ],
          "scattermapbox": [
           {
            "marker": {
             "colorbar": {
              "outlinewidth": 0,
              "ticks": ""
             }
            },
            "type": "scattermapbox"
           }
          ],
          "scatterpolar": [
           {
            "marker": {
             "colorbar": {
              "outlinewidth": 0,
              "ticks": ""
             }
            },
            "type": "scatterpolar"
           }
          ],
          "scatterpolargl": [
           {
            "marker": {
             "colorbar": {
              "outlinewidth": 0,
              "ticks": ""
             }
            },
            "type": "scatterpolargl"
           }
          ],
          "scatterternary": [
           {
            "marker": {
             "colorbar": {
              "outlinewidth": 0,
              "ticks": ""
             }
            },
            "type": "scatterternary"
           }
          ],
          "surface": [
           {
            "colorbar": {
             "outlinewidth": 0,
             "ticks": ""
            },
            "colorscale": [
             [
              0,
              "#0d0887"
             ],
             [
              0.1111111111111111,
              "#46039f"
             ],
             [
              0.2222222222222222,
              "#7201a8"
             ],
             [
              0.3333333333333333,
              "#9c179e"
             ],
             [
              0.4444444444444444,
              "#bd3786"
             ],
             [
              0.5555555555555556,
              "#d8576b"
             ],
             [
              0.6666666666666666,
              "#ed7953"
             ],
             [
              0.7777777777777778,
              "#fb9f3a"
             ],
             [
              0.8888888888888888,
              "#fdca26"
             ],
             [
              1,
              "#f0f921"
             ]
            ],
            "type": "surface"
           }
          ],
          "table": [
           {
            "cells": {
             "fill": {
              "color": "#EBF0F8"
             },
             "line": {
              "color": "white"
             }
            },
            "header": {
             "fill": {
              "color": "#C8D4E3"
             },
             "line": {
              "color": "white"
             }
            },
            "type": "table"
           }
          ]
         },
         "layout": {
          "annotationdefaults": {
           "arrowcolor": "#2a3f5f",
           "arrowhead": 0,
           "arrowwidth": 1
          },
          "autotypenumbers": "strict",
          "coloraxis": {
           "colorbar": {
            "outlinewidth": 0,
            "ticks": ""
           }
          },
          "colorscale": {
           "diverging": [
            [
             0,
             "#8e0152"
            ],
            [
             0.1,
             "#c51b7d"
            ],
            [
             0.2,
             "#de77ae"
            ],
            [
             0.3,
             "#f1b6da"
            ],
            [
             0.4,
             "#fde0ef"
            ],
            [
             0.5,
             "#f7f7f7"
            ],
            [
             0.6,
             "#e6f5d0"
            ],
            [
             0.7,
             "#b8e186"
            ],
            [
             0.8,
             "#7fbc41"
            ],
            [
             0.9,
             "#4d9221"
            ],
            [
             1,
             "#276419"
            ]
           ],
           "sequential": [
            [
             0,
             "#0d0887"
            ],
            [
             0.1111111111111111,
             "#46039f"
            ],
            [
             0.2222222222222222,
             "#7201a8"
            ],
            [
             0.3333333333333333,
             "#9c179e"
            ],
            [
             0.4444444444444444,
             "#bd3786"
            ],
            [
             0.5555555555555556,
             "#d8576b"
            ],
            [
             0.6666666666666666,
             "#ed7953"
            ],
            [
             0.7777777777777778,
             "#fb9f3a"
            ],
            [
             0.8888888888888888,
             "#fdca26"
            ],
            [
             1,
             "#f0f921"
            ]
           ],
           "sequentialminus": [
            [
             0,
             "#0d0887"
            ],
            [
             0.1111111111111111,
             "#46039f"
            ],
            [
             0.2222222222222222,
             "#7201a8"
            ],
            [
             0.3333333333333333,
             "#9c179e"
            ],
            [
             0.4444444444444444,
             "#bd3786"
            ],
            [
             0.5555555555555556,
             "#d8576b"
            ],
            [
             0.6666666666666666,
             "#ed7953"
            ],
            [
             0.7777777777777778,
             "#fb9f3a"
            ],
            [
             0.8888888888888888,
             "#fdca26"
            ],
            [
             1,
             "#f0f921"
            ]
           ]
          },
          "colorway": [
           "#636efa",
           "#EF553B",
           "#00cc96",
           "#ab63fa",
           "#FFA15A",
           "#19d3f3",
           "#FF6692",
           "#B6E880",
           "#FF97FF",
           "#FECB52"
          ],
          "font": {
           "color": "#2a3f5f"
          },
          "geo": {
           "bgcolor": "white",
           "lakecolor": "white",
           "landcolor": "#E5ECF6",
           "showlakes": true,
           "showland": true,
           "subunitcolor": "white"
          },
          "hoverlabel": {
           "align": "left"
          },
          "hovermode": "closest",
          "mapbox": {
           "style": "light"
          },
          "paper_bgcolor": "white",
          "plot_bgcolor": "#E5ECF6",
          "polar": {
           "angularaxis": {
            "gridcolor": "white",
            "linecolor": "white",
            "ticks": ""
           },
           "bgcolor": "#E5ECF6",
           "radialaxis": {
            "gridcolor": "white",
            "linecolor": "white",
            "ticks": ""
           }
          },
          "scene": {
           "xaxis": {
            "backgroundcolor": "#E5ECF6",
            "gridcolor": "white",
            "gridwidth": 2,
            "linecolor": "white",
            "showbackground": true,
            "ticks": "",
            "zerolinecolor": "white"
           },
           "yaxis": {
            "backgroundcolor": "#E5ECF6",
            "gridcolor": "white",
            "gridwidth": 2,
            "linecolor": "white",
            "showbackground": true,
            "ticks": "",
            "zerolinecolor": "white"
           },
           "zaxis": {
            "backgroundcolor": "#E5ECF6",
            "gridcolor": "white",
            "gridwidth": 2,
            "linecolor": "white",
            "showbackground": true,
            "ticks": "",
            "zerolinecolor": "white"
           }
          },
          "shapedefaults": {
           "line": {
            "color": "#2a3f5f"
           }
          },
          "ternary": {
           "aaxis": {
            "gridcolor": "white",
            "linecolor": "white",
            "ticks": ""
           },
           "baxis": {
            "gridcolor": "white",
            "linecolor": "white",
            "ticks": ""
           },
           "bgcolor": "#E5ECF6",
           "caxis": {
            "gridcolor": "white",
            "linecolor": "white",
            "ticks": ""
           }
          },
          "title": {
           "x": 0.05
          },
          "xaxis": {
           "automargin": true,
           "gridcolor": "white",
           "linecolor": "white",
           "ticks": "",
           "title": {
            "standoff": 15
           },
           "zerolinecolor": "white",
           "zerolinewidth": 2
          },
          "yaxis": {
           "automargin": true,
           "gridcolor": "white",
           "linecolor": "white",
           "ticks": "",
           "title": {
            "standoff": 15
           },
           "zerolinecolor": "white",
           "zerolinewidth": 2
          }
         }
        },
        "title": {
         "text": "predictor: NUM_5"
        },
        "xaxis": {
         "anchor": "y",
         "domain": [
          0,
          1
         ],
         "title": {
          "text": "contribution"
         }
        },
        "yaxis": {
         "anchor": "x",
         "domain": [
          0,
          1
         ],
         "title": {
          "text": "bin_contents"
         }
        }
       }
      }
     },
     "metadata": {},
     "output_type": "display_data"
    }
   ],
   "source": [
    "for predictor_name in predictor_names:\n",
    "    fig = px.bar(\n",
    "        df_subset.filter(pl.col('predictor_name') == predictor_name).sort(by='bin_order'), \n",
    "        y='bin_contents', \n",
    "        x='contribution', \n",
    "        color='contribution', \n",
    "        color_continuous_midpoint=0, \n",
    "        color_continuous_scale='bluered_r', \n",
    "        orientation='h',\n",
    "        title=f'predictor: {predictor_name}')\n",
    "    fig.show()"
   ]
  },
  {
   "cell_type": "code",
   "execution_count": null,
   "metadata": {},
   "outputs": [],
   "source": []
  }
 ],
 "metadata": {
  "kernelspec": {
   "display_name": ".venv",
   "language": "python",
   "name": "python3"
  },
  "language_info": {
   "codemirror_mode": {
    "name": "ipython",
    "version": 3
   },
   "file_extension": ".py",
   "mimetype": "text/x-python",
   "name": "python",
   "nbconvert_exporter": "python",
   "pygments_lexer": "ipython3",
   "version": "3.13.1"
  }
 },
 "nbformat": 4,
 "nbformat_minor": 2
}
